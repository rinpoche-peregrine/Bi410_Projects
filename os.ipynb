{
 "cells": [
  {
   "cell_type": "markdown",
   "metadata": {},
   "source": [
    "#### Bi 410/510 (Fall 2019)"
   ]
  },
  {
   "cell_type": "markdown",
   "metadata": {},
   "source": [
    "Before you turn this problem in, make sure everything runs as expected. First, **restart the kernel** (in the menubar, select Kernel$\\rightarrow$Restart) and then **run all cells** (in the menubar, select Cell$\\rightarrow$Run All).\n",
    "\n",
    "Make sure you fill in any place that says `YOUR CODE HERE` or \"YOUR ANSWER HERE\", as well as your name and collaborators below:"
   ]
  },
  {
   "cell_type": "markdown",
   "metadata": {},
   "source": [
    "**Group Members**\n",
    "\n",
    "If this is a group submission edit this cell to add the names and e-mail addresses of the other people who worked on the project.\n",
    "* name (xxx@uoregon.edu)\n",
    "* name (xxx@uoregon.edu)\n",
    "* name (xxx@uoregon.edu)"
   ]
  },
  {
   "cell_type": "code",
   "execution_count": null,
   "metadata": {},
   "outputs": [],
   "source": []
  },
  {
   "cell_type": "markdown",
   "metadata": {},
   "source": [
    "# <span style=\"color:seagreen;\">Project 8: &nbsp; The `os` Library</span>"
   ]
  },
  {
   "cell_type": "markdown",
   "metadata": {},
   "source": [
    "###  <span style=\"color:seagreen\">Instructions</span>"
   ]
  },
  {
   "cell_type": "markdown",
   "metadata": {},
   "source": [
    "Put a copy of the zip file named `sim.zip` in the same folder as this notebook.\n",
    "* you can use the file you downloaded earlier for Project 1, or download it again from the Bi 410 server\n",
    "\n",
    "As you work on the exercises for this project your functions will modify the `sim` folder by moving files around, deleting files, _etc_.  \n",
    "\n",
    "Each time you change your function you'll want to restore the `sim` folder to its original condition before you run the function again.  You can execute this code cell to execute the shell commands that delete the current `sim` folder and replace it with a new copy.\n",
    "* the `-rf` option on the `rm` removes the sim folder and all its subfolders\n",
    "* the \"r\" stands for \"recursive\" and the \"f\" stands for \"force\" (meaning \"don't ask any questions\")\n",
    "* the `-q` option on teh `unzip` command means \"quiet\" (so it won't print any file names as it unpacks the file)"
   ]
  },
  {
   "cell_type": "code",
   "execution_count": 1,
   "metadata": {
    "deletable": false,
    "editable": false,
    "nbgrader": {
     "cell_type": "code",
     "checksum": "151d0ec3ee66f6ccadd8379f92608a68",
     "grade": false,
     "grade_id": "cell-64ca71365d87e1c0",
     "locked": true,
     "schema_version": 3,
     "solution": false,
     "task": false
    }
   },
   "outputs": [],
   "source": [
    "! rm -rf sim\n",
    "! unzip -q sim.zip"
   ]
  },
  {
   "cell_type": "markdown",
   "metadata": {},
   "source": [
    "###  <span style=\"color:seagreen\">Imports</span> "
   ]
  },
  {
   "cell_type": "markdown",
   "metadata": {},
   "source": [
    "Use this code cell to import `os` and any other libraries you might need."
   ]
  },
  {
   "cell_type": "code",
   "execution_count": 2,
   "metadata": {},
   "outputs": [],
   "source": [
    "import os\n",
    "import shutil"
   ]
  },
  {
   "cell_type": "markdown",
   "metadata": {},
   "source": [
    "###  <span style=\"color:seagreen\">Exercise 8.1: Make a Backup File</span> "
   ]
  },
  {
   "cell_type": "markdown",
   "metadata": {},
   "source": [
    "Fill in the body of the function named `backup`.  It will be passed a string that is the path to an existing file.  Your function should make a copy of the file, inserting the string `.orig` into the name of the new file just before the extension.  For example, if we back up `foo.txt` the new file will be `foo.orig.txt`.\n",
    "\n",
    "The return value should be the name of the new file.\n",
    "\n",
    "The function should check for two errors.  If the path passed to the function does not exist, print \"no such file\" and return None.  If there is already a file with the name of the copy, print \"copy exists\" and return None.\n",
    "\n",
    "Example:\n",
    "```\n",
    ">>> backup('sim/clusters/clusters.txt')\n",
    "'sim/clusters/clusters.orig.txt'\n",
    "```"
   ]
  },
  {
   "cell_type": "markdown",
   "metadata": {},
   "source": [
    "#### Design "
   ]
  },
  {
   "cell_type": "markdown",
   "metadata": {},
   "source": [
    "TO DO\n",
    "* Get file\n",
    "* Copy as file with new name, of old name + .orig\n",
    "* add tests "
   ]
  },
  {
   "cell_type": "markdown",
   "metadata": {},
   "source": [
    "#### Code "
   ]
  },
  {
   "cell_type": "code",
   "execution_count": 3,
   "metadata": {
    "deletable": false,
    "nbgrader": {
     "cell_type": "code",
     "checksum": "3d5e70d1136d78b68e8ae670cb5471bc",
     "grade": true,
     "grade_id": "backup",
     "locked": false,
     "points": 6,
     "schema_version": 3,
     "solution": true
    }
   },
   "outputs": [],
   "source": [
    "def backup(filename):\n",
    "    if not os.path.isfile(filename):\n",
    "        print(\"no such file\")\n",
    "        return None\n",
    "    \n",
    "    pre, suf = os.path.splitext(filename)\n",
    "    file_back = pre + '.orig' + suf\n",
    "    \n",
    "    if os.path.isfile(file_back):\n",
    "        print(\"copy exists\")\n",
    "        return None\n",
    "    else:\n",
    "#     print(file_back)\n",
    "        shutil.copyfile(filename, file_back)\n",
    "        return file_back\n",
    "    "
   ]
  },
  {
   "cell_type": "markdown",
   "metadata": {},
   "source": [
    "#### Sandbox "
   ]
  },
  {
   "cell_type": "markdown",
   "metadata": {},
   "source": [
    "You can use this code cell while you are working on your code.  It should make a backup of `clusters/clusters.txt` in the `sim` folder and return the string `sim/clusters/clusters.orig.txt`."
   ]
  },
  {
   "cell_type": "code",
   "execution_count": 4,
   "metadata": {},
   "outputs": [
    {
     "data": {
      "text/plain": [
       "'sim/clusters/clusters.orig.txt'"
      ]
     },
     "execution_count": 4,
     "metadata": {},
     "output_type": "execute_result"
    }
   ],
   "source": [
    "backup('sim/clusters/clusters.txt')"
   ]
  },
  {
   "cell_type": "markdown",
   "metadata": {},
   "source": [
    "#### Tests "
   ]
  },
  {
   "cell_type": "markdown",
   "metadata": {},
   "source": [
    "We will use these code cells to test your code.  \n",
    "\n",
    "**Note:** You can execute these code cells if you wish, but they may fail if the `sim` folder has been modified by a previous call to `backup` (_i.e._ erase and unzip `sim` before you run these tests).\n",
    "\n",
    "The first test cell copies a file, the second makes sure the copy exists, the third tries to copy it again (which should print an error), the fourth tries to copy a file that doesn't exist."
   ]
  },
  {
   "cell_type": "code",
   "execution_count": 5,
   "metadata": {
    "deletable": false,
    "editable": false,
    "nbgrader": {
     "cell_type": "code",
     "checksum": "e881298a6ac12c2dff11c55c371ebf09",
     "grade": true,
     "grade_id": "cell-728843264c774b6e",
     "locked": true,
     "points": 1,
     "schema_version": 3,
     "solution": false,
     "task": false
    }
   },
   "outputs": [],
   "source": [
    "assert backup('sim/map/otus.fasta') == 'sim/map/otus.orig.fasta'"
   ]
  },
  {
   "cell_type": "code",
   "execution_count": 6,
   "metadata": {
    "deletable": false,
    "editable": false,
    "nbgrader": {
     "cell_type": "code",
     "checksum": "321470d3029732bdf0f7a53ccb400486",
     "grade": true,
     "grade_id": "cell-903aec312d627042",
     "locked": true,
     "points": 1,
     "schema_version": 3,
     "solution": false,
     "task": false
    }
   },
   "outputs": [],
   "source": [
    "assert 'otus.orig.fasta' in os.listdir('sim/map')"
   ]
  },
  {
   "cell_type": "code",
   "execution_count": 7,
   "metadata": {
    "deletable": false,
    "editable": false,
    "nbgrader": {
     "cell_type": "code",
     "checksum": "0761ce7f7818d637b876f05291fd1225",
     "grade": true,
     "grade_id": "cell-9a745e8e2e2c4186",
     "locked": true,
     "points": 1,
     "schema_version": 3,
     "solution": false,
     "task": false
    }
   },
   "outputs": [
    {
     "name": "stdout",
     "output_type": "stream",
     "text": [
      "copy exists\n"
     ]
    }
   ],
   "source": [
    "assert backup('sim/map/otus.fasta') is None"
   ]
  },
  {
   "cell_type": "code",
   "execution_count": 8,
   "metadata": {
    "deletable": false,
    "editable": false,
    "nbgrader": {
     "cell_type": "code",
     "checksum": "52c97194ce48374b8fdfc47d95aac90d",
     "grade": true,
     "grade_id": "cell-9ed7dd4b738af4a8",
     "locked": true,
     "points": 1,
     "schema_version": 3,
     "solution": false,
     "task": false
    }
   },
   "outputs": [
    {
     "name": "stdout",
     "output_type": "stream",
     "text": [
      "no such file\n"
     ]
    }
   ],
   "source": [
    "assert backup('sim/X_R1.fastq') is None"
   ]
  },
  {
   "cell_type": "markdown",
   "metadata": {},
   "source": [
    "###  <span style=\"color:seagreen\">Exercise 8.2: Move Log Files</span> "
   ]
  },
  {
   "cell_type": "markdown",
   "metadata": {},
   "source": [
    "Fill in the body of the function named `move_logs`.  It will be passed the name of a 16S rRNA project directory.  Inside that directory is a subdirectory named `merged`  that contains 0 or more log files with names that start with \"log\". \n",
    "\n",
    "Your function should make a new top level folder named `log` and move all of the log files from `merged` to the new log directory.\n",
    "\n",
    "Note: before you make the new `log` directory make sure there isn't already a directory with that name."
   ]
  },
  {
   "cell_type": "markdown",
   "metadata": {},
   "source": [
    "#### Design "
   ]
  },
  {
   "cell_type": "markdown",
   "metadata": {},
   "source": [
    "TO DO\n",
    "* Check for and make dir\n",
    "* Check for files in the source dir that have 'log' prefix\n",
    "*"
   ]
  },
  {
   "cell_type": "markdown",
   "metadata": {},
   "source": [
    "#### Code "
   ]
  },
  {
   "cell_type": "code",
   "execution_count": 9,
   "metadata": {
    "deletable": false,
    "nbgrader": {
     "cell_type": "code",
     "checksum": "197aefa9f08eb4b28cebcdbac57f50e0",
     "grade": true,
     "grade_id": "move_logs",
     "locked": false,
     "points": 6,
     "schema_version": 3,
     "solution": true,
     "task": false
    }
   },
   "outputs": [],
   "source": [
    "def move_logs(dirname):\n",
    "    target = dirname + '/log/'\n",
    "    source = dirname + '/merged/'\n",
    "    \n",
    "    if not os.path.isdir(target): #test for that dir existance, if not then make dir\n",
    "        os.mkdir(target)\n",
    "    \n",
    "    for file in os.listdir(source):\n",
    "        if file.startswith('log'):\n",
    "#             print(file)\n",
    "            shutil.move(source+file, target)\n",
    "        "
   ]
  },
  {
   "cell_type": "markdown",
   "metadata": {},
   "source": [
    "#### Sandbox"
   ]
  },
  {
   "cell_type": "markdown",
   "metadata": {},
   "source": [
    "You can use this code cell to test various functions in the `os` and `shutil` libraries."
   ]
  },
  {
   "cell_type": "code",
   "execution_count": null,
   "metadata": {},
   "outputs": [],
   "source": []
  },
  {
   "cell_type": "markdown",
   "metadata": {},
   "source": [
    "#### Tests "
   ]
  },
  {
   "cell_type": "markdown",
   "metadata": {},
   "source": [
    "When your function is working execute this code cell.  The tests will make sure\n",
    "* the new `log` directory exists and has 3 files, and that there are 3 files left in `merged`\n",
    "* the 3 files in the `log` folder have the expected names"
   ]
  },
  {
   "cell_type": "code",
   "execution_count": 10,
   "metadata": {
    "deletable": false,
    "editable": false,
    "nbgrader": {
     "cell_type": "code",
     "checksum": "049b76a84487dd499682e160e77ad8e3",
     "grade": false,
     "grade_id": "cell-a57d482e25b05a24",
     "locked": true,
     "schema_version": 3,
     "solution": false,
     "task": false
    }
   },
   "outputs": [],
   "source": [
    "move_logs('sim')"
   ]
  },
  {
   "cell_type": "code",
   "execution_count": 11,
   "metadata": {
    "deletable": false,
    "editable": false,
    "nbgrader": {
     "cell_type": "code",
     "checksum": "6abfe80b369c63726f1d7611625d02de",
     "grade": true,
     "grade_id": "cell-fa9c85490ffc6f9a",
     "locked": true,
     "points": 2,
     "schema_version": 3,
     "solution": false,
     "task": false
    }
   },
   "outputs": [],
   "source": [
    "assert os.path.isdir('sim/log')\n",
    "assert len(os.listdir('sim/log')) == 3\n",
    "assert len(os.listdir('sim/merged')) == 3"
   ]
  },
  {
   "cell_type": "code",
   "execution_count": 12,
   "metadata": {
    "deletable": false,
    "editable": false,
    "nbgrader": {
     "cell_type": "code",
     "checksum": "6386a00cc546b34824bc671985c9409b",
     "grade": true,
     "grade_id": "cell-f977bec0a2c4e04a",
     "locked": true,
     "points": 2,
     "schema_version": 3,
     "solution": false,
     "task": false
    }
   },
   "outputs": [],
   "source": [
    "for n in ['1','2','3']:\n",
    "    assert os.path.isfile('sim/log/log.{}.txt'.format(n))"
   ]
  },
  {
   "cell_type": "markdown",
   "metadata": {},
   "source": [
    "###  <span style=\"color:seagreen\">Exercise 8.3: Rearrange FASTQ Files</span> "
   ]
  },
  {
   "cell_type": "markdown",
   "metadata": {},
   "source": [
    "Implement another function that rearranges the files inside a 16S project directory.  The function named `move_pairs` should create a new directory named `fastq`, and inside that directory make one new directory for each pair of FASTQ files.  For example, the sim folder has 6 FASTQ files:\n",
    "```\n",
    "A_R1.fastq\n",
    "A_R2.fastq\n",
    "B_R1.fastq\n",
    "B_R2.fastq\n",
    "C_R1.fastq\n",
    "C_R2.fastq\n",
    "```\n",
    "The pair names are the parts of the file names before the underscore.  This folder has three pairs, and the new subdirectories will have names `A`, `B`, and `C`.  The function should then move each FASTQ file to the new directory for its pair.\n",
    "\n",
    "This picture shows the contents of the `sim` folder before and after calling `move_pairs`:\n",
    "\n",
    "<img width=1200 src=\"https://pages.uoregon.edu/conery/Bi410/before_and_after.png\">\n",
    "\n",
    "**Note:** Don't assume there are always three pairs.  Your function should figure out how many pairs there are and make a new folder for each pair.  You can assume that FASTQ file names always have one letter before the underscore (this is not true in general, but for this project the `sim` folder will always have 26 or fewer pairs)."
   ]
  },
  {
   "cell_type": "markdown",
   "metadata": {},
   "source": [
    "#### Design "
   ]
  },
  {
   "cell_type": "markdown",
   "metadata": {},
   "source": [
    "You can put your \"to do list\" here"
   ]
  },
  {
   "cell_type": "markdown",
   "metadata": {},
   "source": [
    "#### Code "
   ]
  },
  {
   "cell_type": "code",
   "execution_count": 13,
   "metadata": {
    "deletable": false,
    "nbgrader": {
     "cell_type": "code",
     "checksum": "62c48731738e13ea50ad6e25263b413b",
     "grade": true,
     "grade_id": "move_pairs",
     "locked": false,
     "points": 6,
     "schema_version": 3,
     "solution": true,
     "task": false
    }
   },
   "outputs": [],
   "source": [
    "def move_pairs(dirname):\n",
    "    target = dirname + '/fastq/'\n",
    "    \n",
    "    if not os.path.isdir(target): #test for that dir existance, if not then make dir\n",
    "        os.mkdir(target)\n",
    "    \n",
    "    for file in os.listdir(dirname): #list files in parent dir\n",
    "        if file.endswith('.fastq'): \n",
    "            folder = file.split('_')[0] #get prefix\n",
    "            dest = target+folder \n",
    "#             print(file, dest)\n",
    "\n",
    "            if not os.path.isdir(dest): #make subfolder if it doesn't exisst\n",
    "                os.mkdir(dest)    \n",
    "            \n",
    "            shutil.move(dirname+\"/\"+file, dest)"
   ]
  },
  {
   "cell_type": "markdown",
   "metadata": {},
   "source": [
    "#### Sandbox "
   ]
  },
  {
   "cell_type": "code",
   "execution_count": null,
   "metadata": {},
   "outputs": [],
   "source": []
  },
  {
   "cell_type": "markdown",
   "metadata": {},
   "source": [
    "#### Test "
   ]
  },
  {
   "cell_type": "markdown",
   "metadata": {},
   "source": [
    "When your function is working execute this code cell."
   ]
  },
  {
   "cell_type": "code",
   "execution_count": 14,
   "metadata": {
    "deletable": false,
    "editable": false,
    "nbgrader": {
     "cell_type": "code",
     "checksum": "380d688d01b88cd73b299c6353494ae2",
     "grade": false,
     "grade_id": "cell-d79f4d203c503ab4",
     "locked": true,
     "schema_version": 3,
     "solution": false,
     "task": false
    }
   },
   "outputs": [],
   "source": [
    "move_pairs('sim')"
   ]
  },
  {
   "cell_type": "markdown",
   "metadata": {},
   "source": [
    "The test cells will\n",
    "* look to see if the new `fastq` directory exists and it contains 3 items\n",
    "* make sure there are no `.fasq` files remaining in the top level `sim` folder\n",
    "* look for the `R1` and `R2` files in each folder in the new `fastq` directory"
   ]
  },
  {
   "cell_type": "code",
   "execution_count": 15,
   "metadata": {
    "deletable": false,
    "editable": false,
    "nbgrader": {
     "cell_type": "code",
     "checksum": "452fb8ecc37624c6ede455d3c1c8e397",
     "grade": true,
     "grade_id": "cell-e08eeaba0ec5c527",
     "locked": true,
     "points": 2,
     "schema_version": 3,
     "solution": false,
     "task": false
    }
   },
   "outputs": [],
   "source": [
    "assert os.path.isdir('sim/fastq')\n",
    "assert len(os.listdir('sim/fastq')) == 3\n",
    "assert not any(x.endswith('.fastq') for x in os.listdir('sim'))"
   ]
  },
  {
   "cell_type": "code",
   "execution_count": 16,
   "metadata": {
    "deletable": false,
    "editable": false,
    "nbgrader": {
     "cell_type": "code",
     "checksum": "909fc01a19b21ddf2dabd44e2aa9dfc9",
     "grade": true,
     "grade_id": "cell-4efecf25ddece70e",
     "locked": true,
     "points": 2,
     "schema_version": 3,
     "solution": false,
     "task": false
    }
   },
   "outputs": [],
   "source": [
    "for ch in os.listdir('sim/fastq'):\n",
    "    files = os.listdir(os.path.join('sim/fastq', ch))\n",
    "    for pair in ['1','2']:\n",
    "        assert '{}_R{}.fastq'.format(ch,pair) in files"
   ]
  }
 ],
 "metadata": {
  "kernel_info": {
   "name": "python3"
  },
  "kernelspec": {
   "display_name": "Python 3",
   "language": "python",
   "name": "python3"
  },
  "language_info": {
   "codemirror_mode": {
    "name": "ipython",
    "version": 3
   },
   "file_extension": ".py",
   "mimetype": "text/x-python",
   "name": "python",
   "nbconvert_exporter": "python",
   "pygments_lexer": "ipython3",
   "version": "3.7.3"
  },
  "nteract": {
   "version": "0.3.4"
  },
  "varInspector": {
   "cols": {
    "lenName": 16,
    "lenType": 16,
    "lenVar": 40
   },
   "kernels_config": {
    "python": {
     "delete_cmd_postfix": "",
     "delete_cmd_prefix": "del ",
     "library": "var_list.py",
     "varRefreshCmd": "print(var_dic_list())"
    },
    "r": {
     "delete_cmd_postfix": ") ",
     "delete_cmd_prefix": "rm(",
     "library": "var_list.r",
     "varRefreshCmd": "cat(var_dic_list()) "
    }
   },
   "types_to_exclude": [
    "module",
    "function",
    "builtin_function_or_method",
    "instance",
    "_Feature"
   ],
   "window_display": false
  }
 },
 "nbformat": 4,
 "nbformat_minor": 4
}

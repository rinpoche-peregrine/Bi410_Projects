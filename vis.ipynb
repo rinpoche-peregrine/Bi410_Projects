{
 "cells": [
  {
   "cell_type": "markdown",
   "metadata": {},
   "source": [
    "#### Bi 410/510 (Fall 2019)"
   ]
  },
  {
   "cell_type": "markdown",
   "metadata": {},
   "source": [
    "Before you turn this problem in, make sure everything runs as expected. First, **restart the kernel** (in the menubar, select Kernel$\\rightarrow$Restart) and then **run all cells** (in the menubar, select Cell$\\rightarrow$Run All).\n",
    "\n",
    "Make sure you fill in any place that says `YOUR CODE HERE` or \"YOUR ANSWER HERE\", as well as your name and collaborators below:"
   ]
  },
  {
   "cell_type": "markdown",
   "metadata": {},
   "source": [
    "**Group Members**\n",
    "\n",
    "If this is a group submission edit this cell to add the names and e-mail addresses of the other people who worked on the project.\n",
    "* Peregrine Painter (ppainter@uoregon.edu)\n",
    "* Alex Wong (awong8@uoregon.edu)\n",
    "* Dorian Yeh (dyeh@uoregon.edu)"
   ]
  },
  {
   "cell_type": "code",
   "execution_count": null,
   "metadata": {},
   "outputs": [],
   "source": []
  },
  {
   "cell_type": "markdown",
   "metadata": {},
   "source": [
    "# <span style=\"color:seagreen;\">Project 6: &nbsp; Visualization</span>"
   ]
  },
  {
   "cell_type": "markdown",
   "metadata": {},
   "source": [
    "###  <span style=\"color:seagreen\">Import the Library</span>"
   ]
  },
  {
   "cell_type": "markdown",
   "metadata": {},
   "source": [
    "Make sure you execute this code cell each time you open the notebook:"
   ]
  },
  {
   "cell_type": "code",
   "execution_count": 1,
   "metadata": {},
   "outputs": [],
   "source": [
    "import matplotlib.pyplot as plt\n",
    "\n",
    "%matplotlib inline"
   ]
  },
  {
   "cell_type": "markdown",
   "metadata": {},
   "source": [
    "###  <span style=\"color:seagreen\">Data File</span>"
   ]
  },
  {
   "cell_type": "markdown",
   "metadata": {},
   "source": [
    "To complete this project you will need a CSV file named `oregon_football.csv`. \n",
    "The easiest way to download the file is to start a Docker shell, `cd` to the directory where you saved this notebook, and use the `download` shortcut:\n",
    "```\n",
    "$ download oregon_football.csv\n",
    "```\n",
    "Save the data file in the same the same folder as this notebook."
   ]
  },
  {
   "cell_type": "markdown",
   "metadata": {},
   "source": [
    "###  <span style=\"color:seagreen\">Exercise 6.1: Parse the File</span> "
   ]
  },
  {
   "cell_type": "markdown",
   "metadata": {},
   "source": [
    "The file named `oregon_football.csv` is a CSV file with records describing football games played by the University of Oregon. Here is an example line:\n",
    "```\n",
    "1917-01-01,1916,Pennsylvania,14,0\n",
    "```\n",
    "\n",
    "The first field is the date the game was played. The second is the season the game belonged to; in this example, the game was played on January 1, 1917, but that was the end of the 1916 football season.\n",
    "\n",
    "The third field is the name of the opposing team, and the last two fields are the number of points scored by the Ducks and the number of points scored by the opponent.\n",
    "\n",
    "Implement a function named `parse_football_data` that will be passed a list of lines from a CSV file with records in the format described above.  It should return a dictionary with three items:\n",
    "```\n",
    "{\n",
    "   'season': [....],\n",
    "   'scored':  [....],\n",
    "   'allowed:  [....],\n",
    "}\n",
    "```\n",
    "The lists will be the sequence of values read from the corresponding column."
   ]
  },
  {
   "cell_type": "markdown",
   "metadata": {},
   "source": [
    "#### Example "
   ]
  },
  {
   "cell_type": "markdown",
   "metadata": {},
   "source": [
    "Here is a list with the first 5 games in the data set:\n",
    "```\n",
    "[\n",
    "    '1916-10-07,1916,Willamette,97,0\\n',\n",
    "    '1916-10-14,1916,Multnomah A.C.,28,0\\n',\n",
    "    '1916-10-21,1916,California,39,14\\n',\n",
    "    '1916-11-04,1916,Washington,0,0\\n',\n",
    "    '1916-11-11,1916,Washington State,12,3\\n',\n",
    "]\n",
    "```\n",
    "If we pass that list to the function should return a dictionary that looks like this:\n",
    "```\n",
    "{\n",
    "    'season': [1916, 1916, 1916, 1916, 1916],\n",
    "    'scored': [97, 28, 39, 0, 12],\n",
    "    'allowed': [0, 0, 14, 0, 3]\n",
    "}\n",
    " ```\n",
    " \n",
    "**Important:** Notice how each year and each score have been converted to ints."
   ]
  },
  {
   "cell_type": "code",
   "execution_count": 2,
   "metadata": {
    "deletable": false,
    "nbgrader": {
     "cell_type": "code",
     "checksum": "e7b4a6e9343d030dc23b554107e33a94",
     "grade": true,
     "grade_id": "parse_football_data",
     "locked": false,
     "points": 10,
     "schema_version": 3,
     "solution": true
    }
   },
   "outputs": [],
   "source": [
    "def parse_football_data(lst):\n",
    "### init. lists\n",
    "    season = []\n",
    "    scored = []\n",
    "    allowed = []\n",
    "    \n",
    "    for n in lst:\n",
    "        line = n.strip().split(',')\n",
    "#         print(line)\n",
    "        season.append(int(line[1]))\n",
    "        scored.append(int(line[-2]))\n",
    "        allowed.append(int(line[-1]))\n",
    "        \n",
    "    stats_dict = {'season' : season, 'scored': scored, 'allowed': allowed} # Player_Points\n",
    "    return stats_dict\n"
   ]
  },
  {
   "cell_type": "code",
   "execution_count": 3,
   "metadata": {},
   "outputs": [
    {
     "name": "stdout",
     "output_type": "stream",
     "text": [
      "date,season,opponent,points_scored,points_allowed\n",
      "1916-10-07,1916,Willamette,97,0\n",
      "1916-10-14,1916,Multnomah A.C.,28,0\n",
      "1916-10-21,1916,California,39,14\n",
      "1916-11-04,1916,Washington,0,0\n"
     ]
    }
   ],
   "source": [
    "! head -5 oregon_football.csv\n"
   ]
  },
  {
   "cell_type": "markdown",
   "metadata": {},
   "source": [
    "##### Tests "
   ]
  },
  {
   "cell_type": "markdown",
   "metadata": {},
   "source": [
    "Here is a code cell you can use to test the function on the first five games.  The result should be this dictionary:\n",
    "```\n",
    "{'season': [1916, 1916, 1916, 1916, 1916],\n",
    " 'scored': [97, 28, 39, 0, 12],\n",
    " 'allowed': [0, 0, 14, 0, 3]}\n",
    "\n",
    "```\n",
    "Note: the cell has been locked, you won't be able to change it."
   ]
  },
  {
   "cell_type": "code",
   "execution_count": 4,
   "metadata": {
    "deletable": false,
    "editable": false,
    "nbgrader": {
     "cell_type": "code",
     "checksum": "ec940ff41df53282a7af607b49945b1c",
     "grade": false,
     "grade_id": "parse_sandbox",
     "locked": true,
     "schema_version": 3,
     "solution": false,
     "task": false
    }
   },
   "outputs": [
    {
     "data": {
      "text/plain": [
       "{'season': [1916, 1916, 1916, 1916, 1916],\n",
       " 'scored': [97, 28, 39, 0, 12],\n",
       " 'allowed': [0, 0, 14, 0, 3]}"
      ]
     },
     "execution_count": 4,
     "metadata": {},
     "output_type": "execute_result"
    }
   ],
   "source": [
    "parse_football_data([\n",
    "    '1916-10-07,1916,Willamette,97,0\\n',\n",
    "    '1916-10-14,1916,Multnomah A.C.,28,0\\n',\n",
    "    '1916-10-21,1916,California,39,14\\n',\n",
    "    '1916-11-04,1916,Washington,0,0\\n',\n",
    "    '1916-11-11,1916,Washington State,12,3\\n',\n",
    "])"
   ]
  },
  {
   "cell_type": "markdown",
   "metadata": {},
   "source": [
    "When your function is working execute this code cell to define a variable named `fb` that has the results of all the games.  The first line in the file is the header, containing field names, so it is not passed to the parser.\n",
    "\n",
    "(This cell is also locked)."
   ]
  },
  {
   "cell_type": "code",
   "execution_count": 5,
   "metadata": {
    "deletable": false,
    "editable": false,
    "nbgrader": {
     "cell_type": "code",
     "checksum": "723b60ef1e008bea7d29abfa7592aa7e",
     "grade": false,
     "grade_id": "make_football_data",
     "locked": true,
     "schema_version": 3,
     "solution": false,
     "task": false
    }
   },
   "outputs": [],
   "source": [
    "with open('oregon_football.csv') as f:\n",
    "    lines = f.readlines()\n",
    "    \n",
    "fb = parse_football_data(lines[1:])"
   ]
  },
  {
   "cell_type": "markdown",
   "metadata": {},
   "source": [
    "#### Tests"
   ]
  },
  {
   "cell_type": "code",
   "execution_count": 6,
   "metadata": {
    "deletable": false,
    "editable": false,
    "nbgrader": {
     "cell_type": "code",
     "checksum": "188358aa40953285303a2a43158d8f45",
     "grade": true,
     "grade_id": "cell-d9c1c63e26388ded",
     "locked": true,
     "points": 2,
     "schema_version": 3,
     "solution": false,
     "task": false
    }
   },
   "outputs": [],
   "source": [
    "assert len(fb['scored']) == len(fb['allowed']) == 1068"
   ]
  },
  {
   "cell_type": "code",
   "execution_count": 7,
   "metadata": {
    "deletable": false,
    "editable": false,
    "nbgrader": {
     "cell_type": "code",
     "checksum": "6e7c489a71c7c3ff72f5ca50437383ff",
     "grade": true,
     "grade_id": "cell-a6ce9b40dfe32deb",
     "locked": true,
     "points": 3,
     "schema_version": 3,
     "solution": false,
     "task": false
    }
   },
   "outputs": [],
   "source": [
    "assert sum(fb['scored']) == 23784\n",
    "assert sum(fb['allowed']) == 20235"
   ]
  },
  {
   "cell_type": "markdown",
   "metadata": {},
   "source": [
    "###  <span style=\"color:seagreen\">Exercise 6.2: Dot Plot</span>"
   ]
  },
  {
   "cell_type": "markdown",
   "metadata": {},
   "source": [
    "Use the code cells below to produce a \"dot plot\" of points scored in all the games.  You can assume the scores are in the dictionary named `fb` as a result of running the test for the previous exercise.\n",
    "\n",
    "The goal is to draw green dots for points Oregon scored, and red dots for points scored by opponents.  For each plot, the $x$-coordinates will be the year the game was played, and the $y$-coordinates will be the point values.\n",
    "\n",
    "Your plot should look something like this:\n",
    "\n",
    "<img src=\"https://pages.uoregon.edu/conery/Bi410/football_dotplot.png\"/>"
   ]
  },
  {
   "cell_type": "markdown",
   "metadata": {},
   "source": [
    "Some notes:\n",
    "* your figure should have a title and a legend\n",
    "* you can experiment with different colors or dot sizes, or use other decorations\n",
    "* there will be several cases where dots overlap, when the Ducks or their opponents score the same number of points in different games in the same season; you can decide whether you want to plot red dots first or green dots first\n",
    "* if the figure seems too small, you can call `plt.figure` to change the size, for example this makes a 12\" x 9\" figure:\n",
    "```\n",
    "plt.figure(figsize=[12,9])\n",
    "```\n",
    "* you do not have to save your plot in a file, simply make sure you have calls to plot functions so the drawing appears in your notebook when we run it.\n",
    "\n",
    "One more note: in my figure I reduced the number of times dots overlap by adding 0.5 to the $x$-coordinates of the red dots.  You don't have to do this (or you can experiment with different offset amounts)."
   ]
  },
  {
   "cell_type": "code",
   "execution_count": 8,
   "metadata": {
    "deletable": false,
    "nbgrader": {
     "cell_type": "code",
     "checksum": "084057d2cd4fc8221f2268cf7d10c794",
     "grade": true,
     "grade_id": "football_dotplot",
     "locked": false,
     "points": 20,
     "schema_version": 3,
     "solution": true,
     "task": false
    }
   },
   "outputs": [
    {
     "data": {
      "image/png": "[encoded data removed]",
      "text/plain": [
       "<Figure size 864x648 with 1 Axes>"
      ]
     },
     "metadata": {
      "needs_background": "light"
     },
     "output_type": "display_data"
    }
   ],
   "source": [
    "plt.figure(figsize=[12,9])\n",
    "\n",
    "plt.title(label = 'Football Scores by Year')\n",
    "plt.xlabel('Year')\n",
    "plt.ylabel('Points')\n",
    "plt.plot(fb['season'],\n",
    "         fb['scored'],\n",
    "         'ro',\n",
    "         label = 'Scored',\n",
    "         markersize = 3)\n",
    "plt.plot(fb['season'],\n",
    "         fb['allowed'],\n",
    "         'go',\n",
    "         label = 'Allowed',\n",
    "         markersize = 3)\n",
    "plt.legend(loc='upper right')\n",
    "plt.show()\n"
   ]
  },
  {
   "cell_type": "code",
   "execution_count": null,
   "metadata": {},
   "outputs": [],
   "source": []
  },
  {
   "cell_type": "markdown",
   "metadata": {},
   "source": [
    "###  <span style=\"color:seagreen\">Exercise 6.3: Group Scores by Year</span>"
   ]
  },
  {
   "cell_type": "markdown",
   "metadata": {},
   "source": [
    "Define a function that will be passed the dictionary of football scores and a year.\n",
    "The function should return a pair of numbers: the total number of points scored by Oregon in games played that year, and the total number of points scored by opponents.\n",
    "\n",
    "To illustrate how this function should work, this statement will make a dictionary using a very small subset of the data, containing five games:\n",
    "```\n",
    "dct = parse_football_data([\n",
    "    '1916-10-21,1916,California,39,14\\n',\n",
    "    '1916-11-04,1916,Washington,0,0\\n',\n",
    "    '1916-11-11,1916,Washington State,12,3\\n',\n",
    "    '1917-11-17,1917,California,21,0\\n',\n",
    "    '1917-11-29,1917,Oregon State,7,14\\n'\n",
    "]\n",
    "```\n",
    "\n",
    "Three games are from the 1916 season and two are from the 1917 season.  This is the expected result when you ask your function to compute the points scored in 1916:\n",
    "```\n",
    ">>> total_by_year(dct, 1916)\n",
    "(51, 17)\n",
    "```"
   ]
  },
  {
   "cell_type": "code",
   "execution_count": 9,
   "metadata": {
    "deletable": false,
    "nbgrader": {
     "cell_type": "code",
     "checksum": "6a8d7b622c5620a00117cddba4a85b7a",
     "grade": true,
     "grade_id": "total_by_year",
     "locked": false,
     "points": 10,
     "schema_version": 3,
     "solution": true,
     "task": false
    }
   },
   "outputs": [],
   "source": [
    "def total_by_year(inputs, year):\n",
    "    scored_tot = 0\n",
    "    allowed_tot = 0\n",
    "    \n",
    "    for n in range(len(inputs['season'])):\n",
    "        if int(year) == inputs['season'][n]:\n",
    "            scored_tot += inputs['scored'][n]\n",
    "            allowed_tot += inputs['allowed'][n]\n",
    "    return (scored_tot, allowed_tot)\n",
    "            "
   ]
  },
  {
   "cell_type": "markdown",
   "metadata": {},
   "source": [
    "You can use these code cells to test your function on the tiny data set.  The expected results are shown above."
   ]
  },
  {
   "cell_type": "code",
   "execution_count": 10,
   "metadata": {
    "deletable": false,
    "editable": false,
    "nbgrader": {
     "cell_type": "code",
     "checksum": "a5bee29ae9da05834b89ac119ebb6df7",
     "grade": false,
     "grade_id": "year_sandbox",
     "locked": true,
     "schema_version": 3,
     "solution": false,
     "task": false
    }
   },
   "outputs": [],
   "source": [
    "dct = parse_football_data([\n",
    "    '1916-10-21,1916,California,39,14\\n',\n",
    "    '1916-11-04,1916,Washington,0,0\\n',\n",
    "    '1916-11-11,1916,Washington State,12,3\\n',\n",
    "    '1917-11-17,1917,California,21,0\\n',\n",
    "    '1917-11-29,1917,Oregon State,7,14\\n'\n",
    "])"
   ]
  },
  {
   "cell_type": "code",
   "execution_count": 11,
   "metadata": {},
   "outputs": [],
   "source": [
    "# print(dct)\n",
    "# print(dct['season'])\n",
    "# print(len(dct['season']))\n",
    "# print(dct['season'][1])"
   ]
  },
  {
   "cell_type": "code",
   "execution_count": 12,
   "metadata": {},
   "outputs": [
    {
     "data": {
      "text/plain": [
       "(51, 17)"
      ]
     },
     "execution_count": 12,
     "metadata": {},
     "output_type": "execute_result"
    }
   ],
   "source": [
    "total_by_year(dct, 1916)"
   ]
  },
  {
   "cell_type": "markdown",
   "metadata": {},
   "source": [
    "##### Tests"
   ]
  },
  {
   "cell_type": "markdown",
   "metadata": {},
   "source": [
    "When your function is working, execute this code cell to compute the total points for every year from 1916 to 2018 and save the result as a dictionary named `fbs` (for \"football seasons\").\n",
    "* this loop is not the best way to create the `fbs` dictionary, since it is very inefficient, but it's a good test of your `total_by_year` function"
   ]
  },
  {
   "cell_type": "code",
   "execution_count": 13,
   "metadata": {
    "deletable": false,
    "editable": false,
    "nbgrader": {
     "cell_type": "code",
     "checksum": "5213bacc8ea0a0d8a20719ea724576f5",
     "grade": false,
     "grade_id": "make_year_data",
     "locked": true,
     "schema_version": 3,
     "solution": false,
     "task": false
    }
   },
   "outputs": [],
   "source": [
    "fbs = {'season': [], 'scored': [], 'allowed': []}\n",
    "for y in range(1916, 2019):\n",
    "    scored, allowed = total_by_year(fb, y)\n",
    "    fbs['season'].append(y)\n",
    "    fbs['scored'].append(scored)\n",
    "    fbs['allowed'].append(allowed)"
   ]
  },
  {
   "cell_type": "markdown",
   "metadata": {},
   "source": [
    "We'll use these assertions when grading your project:"
   ]
  },
  {
   "cell_type": "code",
   "execution_count": 14,
   "metadata": {
    "deletable": false,
    "editable": false,
    "nbgrader": {
     "cell_type": "code",
     "checksum": "b7d67f5d3fefd39bfda4f1eba55dee8d",
     "grade": true,
     "grade_id": "cell-ef585b4cc6c64950",
     "locked": true,
     "points": 2,
     "schema_version": 3,
     "solution": false,
     "task": false
    }
   },
   "outputs": [],
   "source": [
    "assert len(fbs['season']) == 103"
   ]
  },
  {
   "cell_type": "code",
   "execution_count": 15,
   "metadata": {
    "deletable": false,
    "editable": false,
    "nbgrader": {
     "cell_type": "code",
     "checksum": "3384255dc982c0432380d1f3dbed9f17",
     "grade": true,
     "grade_id": "cell-752d07f28a916a45",
     "locked": true,
     "points": 3,
     "schema_version": 3,
     "solution": false,
     "task": false
    }
   },
   "outputs": [],
   "source": [
    "assert sum(fbs['scored']) == 23784"
   ]
  },
  {
   "cell_type": "code",
   "execution_count": 16,
   "metadata": {},
   "outputs": [],
   "source": [
    "# print(fbs)"
   ]
  },
  {
   "cell_type": "markdown",
   "metadata": {},
   "source": [
    "###  <span style=\"color:seagreen\">Exercise 6.4: Scoring Trends</span>"
   ]
  },
  {
   "cell_type": "markdown",
   "metadata": {},
   "source": [
    "For this project create a plot that shows the total points scored in each season, using the data in the dictionary named `fbs`.\n",
    "\n",
    "Draw two lines, one in green showing points scored by Oregon, and one in red showing total points scored by the opponents.\n",
    "The $x$-axis will be the same as before, but now the $y$-coordinate of a point will the total points scored during that season.\n",
    "\n",
    "This figure should also have a title and legend, and again you are free to experiment with colors, line styles, _etc_.\n",
    "\n",
    "<img src=\"https://pages.uoregon.edu/conery/Bi410/football_trends.png\"/>"
   ]
  },
  {
   "cell_type": "code",
   "execution_count": 17,
   "metadata": {
    "deletable": false,
    "nbgrader": {
     "cell_type": "code",
     "checksum": "b1956c872db3c4efaad90b06b4d1d2d6",
     "grade": true,
     "grade_id": "football_trend_plot",
     "locked": false,
     "points": 20,
     "schema_version": 3,
     "solution": true
    }
   },
   "outputs": [
    {
     "data": {
      "image/png": "[encoded data removed]",
      "text/plain": [
       "<Figure size 864x648 with 1 Axes>"
      ]
     },
     "metadata": {
      "needs_background": "light"
     },
     "output_type": "display_data"
    }
   ],
   "source": [
    "plt.figure(figsize=[12,9])\n",
    "\n",
    "plt.title(label = 'Football Scores by Year')\n",
    "plt.xlabel('Year')\n",
    "plt.ylabel('Points')\n",
    "\n",
    "plt.plot(fbs['season'],\n",
    "         fbs['scored'],\n",
    "         'r-o', label = 'Scored',\n",
    "         markersize = 5)\n",
    "plt.plot(fbs['season'],\n",
    "         fbs['allowed'],\n",
    "         'g-o',\n",
    "         label = 'Allowed',\n",
    "         markersize = 5)\n",
    "\n",
    "plt.legend(loc='upper right')\n",
    "\n",
    "plt.show()\n"
   ]
  },
  {
   "cell_type": "markdown",
   "metadata": {},
   "source": [
    "###  <span style=\"color:seagreen\">Exercise 6.5: Group Scores by Decade</span>"
   ]
  },
  {
   "cell_type": "markdown",
   "metadata": {},
   "source": [
    "For this exercise you need to define a function named `total_by_decade` that will compute total scores over a 10-year period. \n",
    "\n",
    "This function is almost identical to the `total_by_year` function.  It's so similar, in fact, that you might want to start by copying that function, pasting it in the code cell below, and changing the name.\n",
    "\n",
    "The only difference is that instead of passing a year to the function the argument will be the first year in a decade, _e.g._ 1920, 1980, or 2000.\n",
    "As you iterate over the data set you want to see if the `season` field is a year in that decade.\n",
    "For example, if the decade is 1990, you want to include games with seasons between 1990 and 1999.  \n",
    "\n",
    "The easiest way to see if a season belongs to a decade is to divide the season by 10, using integer arithmetic, and then multiply the result by 10.  Using the year 1997 as an example,  `1997 // 10 = 199`, and `199 * 10 = 1990`, so the decade for 1997 is 1990.\n",
    "\n",
    "Here is another tiny data set to test the new function. There are four games, two of them from the decade between 2000 and 2009, and two from the decade 2010 to 2019.\n",
    "```\n",
    "dct = parse_football_data([\n",
    "    '2008-08-30,2008,Washington,44,10\\n',\n",
    "    '2009-10-24,2009,Washington,43,19\\n',\n",
    "    '2010-11-06,2010,Washington,53,16\\n',\n",
    "    '2011-11-05,2011,Washington,34,17\\n',\n",
    "])\n",
    "```\n",
    "\n",
    "Passing this dictionary and 2000 to the function should return the sum of points scored and points allowed in the  two games that were played between 2000 and 2009:\n",
    "```\n",
    ">>> total_by_decade(dct, 2000)\n",
    "(87, 29)\n",
    "```"
   ]
  },
  {
   "cell_type": "code",
   "execution_count": 18,
   "metadata": {
    "deletable": false,
    "nbgrader": {
     "cell_type": "code",
     "checksum": "cc7f6b234220f4c1de5aaafd70eb921c",
     "grade": true,
     "grade_id": "total_by_decade",
     "locked": false,
     "points": 5,
     "schema_version": 3,
     "solution": true,
     "task": false
    }
   },
   "outputs": [],
   "source": [
    "def decade_of(n):         # I dont want have to do this math more than once -P\n",
    "    dec = int(n) // 10 * 10\n",
    "    return dec\n",
    "\n",
    "### Start actual function\n",
    "def total_by_decade(inputs, year):\n",
    "    scored_tot = 0\n",
    "    allowed_tot = 0\n",
    "    \n",
    "    for n in range(len(inputs['season'])):\n",
    "        if decade_of(year) == decade_of(inputs['season'][n]): # applying that decade() function, I am sorry I'm lazy - P\n",
    "            scored_tot += inputs['scored'][n]\n",
    "            allowed_tot += inputs['allowed'][n]\n",
    "    return (scored_tot, allowed_tot)\n",
    "            "
   ]
  },
  {
   "cell_type": "markdown",
   "metadata": {},
   "source": [
    "You can use these code cells to test your function on the 4-game data set:"
   ]
  },
  {
   "cell_type": "code",
   "execution_count": 19,
   "metadata": {
    "deletable": false,
    "editable": false,
    "nbgrader": {
     "cell_type": "code",
     "checksum": "9f071ca6e336e4380e4b16264c086800",
     "grade": false,
     "grade_id": "decade_sandbox",
     "locked": true,
     "schema_version": 3,
     "solution": false,
     "task": false
    }
   },
   "outputs": [],
   "source": [
    "dct = parse_football_data([\n",
    "    '2008-08-30,2008,Washington,44,10\\n',\n",
    "    '2009-10-24,2009,Washington,43,19\\n',\n",
    "    '2010-11-06,2010,Washington,53,16\\n',\n",
    "    '2011-11-05,2011,Washington,34,17\\n',\n",
    "])"
   ]
  },
  {
   "cell_type": "code",
   "execution_count": 20,
   "metadata": {},
   "outputs": [
    {
     "data": {
      "text/plain": [
       "(87, 29)"
      ]
     },
     "execution_count": 20,
     "metadata": {},
     "output_type": "execute_result"
    }
   ],
   "source": [
    "total_by_decade(dct, 2000)"
   ]
  },
  {
   "cell_type": "markdown",
   "metadata": {},
   "source": [
    "##### Tests "
   ]
  },
  {
   "cell_type": "markdown",
   "metadata": {},
   "source": [
    "When your function is working, execute this code cell to compute the total points for every decade from 1920 to 2010 and save the result as a dictionary named `fbd` (for \"football decades\")."
   ]
  },
  {
   "cell_type": "code",
   "execution_count": 21,
   "metadata": {
    "deletable": false,
    "editable": false,
    "nbgrader": {
     "cell_type": "code",
     "checksum": "3aa191d65435b5666239d6ce28c4c237",
     "grade": false,
     "grade_id": "make_decade_data",
     "locked": true,
     "schema_version": 3,
     "solution": false,
     "task": false
    }
   },
   "outputs": [],
   "source": [
    "fbd = {'decade': [], 'scored': [], 'allowed': []}\n",
    "for y in range(1920, 2020, 10):\n",
    "    scored, allowed = total_by_decade(fb, y)\n",
    "    fbd['decade'].append(y)\n",
    "    fbd['scored'].append(scored)\n",
    "    fbd['allowed'].append(allowed)"
   ]
  },
  {
   "cell_type": "markdown",
   "metadata": {},
   "source": [
    "We'll use these assertions when grading your project:"
   ]
  },
  {
   "cell_type": "code",
   "execution_count": 22,
   "metadata": {
    "deletable": false,
    "editable": false,
    "nbgrader": {
     "cell_type": "code",
     "checksum": "d530d753ea8c3785f06f7143e5ffb965",
     "grade": true,
     "grade_id": "cell-4c206a5848e33c1b",
     "locked": true,
     "points": 2,
     "schema_version": 3,
     "solution": false,
     "task": false
    }
   },
   "outputs": [],
   "source": [
    "assert len(fbd['decade']) == 10"
   ]
  },
  {
   "cell_type": "code",
   "execution_count": 23,
   "metadata": {
    "deletable": false,
    "editable": false,
    "nbgrader": {
     "cell_type": "code",
     "checksum": "f8911017b429b3dec207e5054c51e028",
     "grade": true,
     "grade_id": "cell-60da0183dadb9943",
     "locked": true,
     "points": 3,
     "schema_version": 3,
     "solution": false,
     "task": false
    }
   },
   "outputs": [],
   "source": [
    "assert fbd['scored'][-1] == 5078"
   ]
  },
  {
   "cell_type": "markdown",
   "metadata": {},
   "source": [
    "###  <span style=\"color:seagreen\">Exercise 6.6: Bar Plot</span>"
   ]
  },
  {
   "cell_type": "markdown",
   "metadata": {},
   "source": [
    "Use the code cell below to draw a bar plot of points scored in each decade, using the data in the `fbd` dictionary.\n",
    "\n",
    "There are 10 decades, so there will be 10 pairs of bars.  \n",
    "Use green bars for points scored by Oregon and red bars for points scored by opponents. \n",
    "The plot should include a title and legend.  \n",
    "\n",
    "Note that you will need to define two sets of $x$-coordinates, one for the green bars and one for the red bars.\n",
    "There is an example similar to this in the lecture notes.\n",
    "\n",
    "My plot is shown below. Feel free to experiment with alternative colors and styles (for example, can you include every decade in the horizontal axis label, perhaps displayed at an angle so they aren't so crowded?).\n",
    "\n",
    "<img src=\"https://pages.uoregon.edu/conery/Bi410/football_decades.png\"/>"
   ]
  },
  {
   "cell_type": "code",
   "execution_count": 25,
   "metadata": {
    "deletable": false,
    "nbgrader": {
     "cell_type": "code",
     "checksum": "1dc10e8a2f416fc21c5700ac1b9b9272",
     "grade": true,
     "grade_id": "football_bar_plot",
     "locked": false,
     "points": 20,
     "schema_version": 3,
     "solution": true,
     "task": false
    }
   },
   "outputs": [
    {
     "data": {
      "image/png": "[encoded data removed]",
      "text/plain": [
       "<Figure size 648x432 with 1 Axes>"
      ]
     },
     "metadata": {
      "needs_background": "light"
     },
     "output_type": "display_data"
    }
   ],
   "source": [
    "plt.figure(figsize=[9,6])\n",
    "\n",
    "plt.title(label = 'Football Scores by Decade')\n",
    "plt.xlabel('Year')\n",
    "plt.ylabel('Points')\n",
    "\n",
    "\n",
    "plt.bar([1+k for k in fbd['decade']],\n",
    "        fbd['scored'],\n",
    "        width=2,\n",
    "        color='g',\n",
    "        label='Oregon')\n",
    "plt.bar([k-1 for k in fbd['decade']],\n",
    "        fbd['allowed'],\n",
    "        width=2,\n",
    "        color='r',\n",
    "        label='Opponent')\n",
    "\n",
    "plt.legend(loc='upper left')\n",
    "\n",
    "plt.show()"
   ]
  },
  {
   "cell_type": "code",
   "execution_count": null,
   "metadata": {},
   "outputs": [],
   "source": []
  }
 ],
 "metadata": {
  "kernel_info": {
   "name": "python3"
  },
  "kernelspec": {
   "display_name": "Python 3",
   "language": "python",
   "name": "python3"
  },
  "language_info": {
   "codemirror_mode": {
    "name": "ipython",
    "version": 3
   },
   "file_extension": ".py",
   "mimetype": "text/x-python",
   "name": "python",
   "nbconvert_exporter": "python",
   "pygments_lexer": "ipython3",
   "version": "3.7.3"
  },
  "nteract": {
   "version": "0.3.4"
  },
  "varInspector": {
   "cols": {
    "lenName": 16,
    "lenType": 16,
    "lenVar": 40
   },
   "kernels_config": {
    "python": {
     "delete_cmd_postfix": "",
     "delete_cmd_prefix": "del ",
     "library": "var_list.py",
     "varRefreshCmd": "print(var_dic_list())"
    },
    "r": {
     "delete_cmd_postfix": ") ",
     "delete_cmd_prefix": "rm(",
     "library": "var_list.r",
     "varRefreshCmd": "cat(var_dic_list()) "
    }
   },
   "types_to_exclude": [
    "module",
    "function",
    "builtin_function_or_method",
    "instance",
    "_Feature"
   ],
   "window_display": false
  }
 },
 "nbformat": 4,
 "nbformat_minor": 4
}

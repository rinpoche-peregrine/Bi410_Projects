{
 "cells": [
  {
   "cell_type": "markdown",
   "metadata": {},
   "source": [
    "#### Bi 410/510 (Fall 2019)"
   ]
  },
  {
   "cell_type": "markdown",
   "metadata": {},
   "source": [
    "Before you turn this problem in, make sure everything runs as expected. First, **restart the kernel** (in the menubar, select Kernel$\\rightarrow$Restart) and then **run all cells** (in the menubar, select Cell$\\rightarrow$Run All).\n",
    "\n",
    "Make sure you fill in any place that says `YOUR CODE HERE` or \"YOUR ANSWER HERE\", as well as your name and collaborators below:"
   ]
  },
  {
   "cell_type": "markdown",
   "metadata": {},
   "source": [
    "**Group Members**\n",
    "\n",
    "If this is a group submission edit this cell to add the names and e-mail addresses of the othrer people who worked on the project.\n",
    "* name (xxx@uoregon.edu)\n",
    "* name (xxx@uoregon.edu)\n",
    "* name (xxx@uoregon.edu)"
   ]
  },
  {
   "cell_type": "markdown",
   "metadata": {},
   "source": [
    "# <span style=\"color:seagreen;\">Project 2: &nbsp; Introduction to Python</span>"
   ]
  },
  {
   "cell_type": "markdown",
   "metadata": {},
   "source": [
    "This is the first Python programming project of the term.  The goal is to learn about basic arithmetic and string operations by defining and testing small function definitions."
   ]
  },
  {
   "cell_type": "markdown",
   "metadata": {},
   "source": [
    "###  <span style=\"color:seagreen\">Instructions</span>"
   ]
  },
  {
   "cell_type": "markdown",
   "metadata": {},
   "source": [
    "The exercises in this notebook require you to write the definitions of a set of Python functions. Each exercise has several notebook cells:\n",
    "* the function you need to write is described in a set of markdown cells\n",
    "* next is a code cell where you should enter the Python code for your function definition\n",
    "* following that are one or more \"test\" cells, code cells that contain calls to your function\n",
    "\n",
    "As you write the code for your functions you can execute the test cells to see if your code is working.  Feel free to add additional tests if you want.\n",
    "\n",
    "Submit the final notebook via Canvas.  If you worked in a group only one person has to submit the project (but make sure everyone's name is in the first cell)."
   ]
  },
  {
   "cell_type": "markdown",
   "metadata": {},
   "source": [
    "###  <span style=\"color:seagreen\">Exercise 2.0: </span>`vol`"
   ]
  },
  {
   "cell_type": "markdown",
   "metadata": {},
   "source": [
    "The first project has been completed for you as an example.\n",
    "\n",
    "The volume of a cylinder with radius $r$ and height $h$ is  "
   ]
  },
  {
   "cell_type": "markdown",
   "metadata": {},
   "source": [
    "$$\n",
    "v = h \\times \\pi \\times r^2\n",
    "$$"
   ]
  },
  {
   "cell_type": "markdown",
   "metadata": {},
   "source": [
    "Define a function named `vol` that will take two arguments, `h` and `r`, and return the volume of a cylinder with height `h` and radius `r`, rounded to the nearest integer."
   ]
  },
  {
   "cell_type": "code",
   "execution_count": 4,
   "metadata": {
    "deletable": false,
    "editable": false,
    "nbgrader": {
     "cell_type": "code",
     "checksum": "95a31c8324c69bfa45d70e5dde27d70d",
     "grade": false,
     "grade_id": "cell-20de699a7e99d133",
     "locked": true,
     "schema_version": 3,
     "solution": false,
     "task": false
    }
   },
   "outputs": [],
   "source": [
    "from math import pi\n",
    "\n",
    "def vol(h, r):\n",
    "    v = h * pi * r**2\n",
    "    return round(v)"
   ]
  },
  {
   "cell_type": "markdown",
   "metadata": {},
   "source": [
    "##### Tests "
   ]
  },
  {
   "cell_type": "markdown",
   "metadata": {},
   "source": [
    "With $h = 8''$ and $r = 1''$ (a tall coffee cup) the volume is around 25 cubic inches (14 ounces)."
   ]
  },
  {
   "cell_type": "code",
   "execution_count": 5,
   "metadata": {
    "deletable": false,
    "editable": false,
    "nbgrader": {
     "cell_type": "code",
     "checksum": "67736ecc71fd3de422f94b7324bc55b3",
     "grade": false,
     "grade_id": "cell-8fb82e7d6d2d687f",
     "locked": true,
     "schema_version": 3,
     "solution": false,
     "task": false
    }
   },
   "outputs": [],
   "source": [
    "assert vol(8, 1) == 25"
   ]
  },
  {
   "cell_type": "markdown",
   "metadata": {},
   "source": [
    "A measuring cup $4''$ tall and with a $2\\frac{1}{4}''$ radius holds 64 cubic inches (about 4 cups)."
   ]
  },
  {
   "cell_type": "code",
   "execution_count": 6,
   "metadata": {
    "deletable": false,
    "editable": false,
    "nbgrader": {
     "cell_type": "code",
     "checksum": "4f414f5e8bc2322c1313df839bc46460",
     "grade": false,
     "grade_id": "cell-b52f60dc594221b4",
     "locked": true,
     "schema_version": 3,
     "solution": false,
     "task": false
    }
   },
   "outputs": [],
   "source": [
    "assert vol(4, 2.25) == 64"
   ]
  },
  {
   "cell_type": "markdown",
   "metadata": {},
   "source": [
    "###  <span style=\"color:seagreen\">Exercise 2.1: </span>`bmi`"
   ]
  },
  {
   "cell_type": "markdown",
   "metadata": {},
   "source": [
    "The formula for body mass index, in units used in the U.S., is\n",
    "\n",
    "$$\n",
    "\\textrm{bmi} = \\frac{\\textrm{weight}}{\\textrm{height}^2} \\times 703\n",
    "$$\n",
    "\n",
    "Define a function named `bmi` that takes two parameters, a person's `height` and `weight`, and returns their body mass index, rounded to the nearest integer.\n",
    "\n",
    "The function header has been written for you; you just need to fill in the body of the function.  Delete the line that says `pass` and replace it with the code that computes the BMI."
   ]
  },
  {
   "cell_type": "code",
   "execution_count": 33,
   "metadata": {
    "deletable": false,
    "nbgrader": {
     "cell_type": "code",
     "checksum": "08bd2261e81690ecbcc99cb087f413b4",
     "grade": true,
     "grade_id": "bmi",
     "locked": false,
     "points": 6,
     "schema_version": 3,
     "solution": true
    }
   },
   "outputs": [],
   "source": [
    "def bmi(height, weight):\n",
    "    # YOUR CODE HERE\n",
    "    b = (weight/height**2)*703\n",
    "    return round(b)"
   ]
  },
  {
   "cell_type": "code",
   "execution_count": 34,
   "metadata": {},
   "outputs": [
    {
     "data": {
      "text/plain": [
       "27"
      ]
     },
     "execution_count": 34,
     "metadata": {},
     "output_type": "execute_result"
    }
   ],
   "source": [
    "bmi(72, 200)"
   ]
  },
  {
   "cell_type": "markdown",
   "metadata": {},
   "source": [
    "##### Tests "
   ]
  },
  {
   "cell_type": "markdown",
   "metadata": {},
   "source": [
    "A person 6 feet tall weighing 200 pounds has a BMI of 27."
   ]
  },
  {
   "cell_type": "code",
   "execution_count": 35,
   "metadata": {
    "deletable": false,
    "editable": false,
    "nbgrader": {
     "cell_type": "code",
     "checksum": "4d3cc6ab7a328b9ef0c43563f2a5afa6",
     "grade": true,
     "grade_id": "bmi_test1",
     "locked": true,
     "points": 2,
     "schema_version": 3,
     "solution": false
    }
   },
   "outputs": [],
   "source": [
    "assert bmi(72,200) == 27"
   ]
  },
  {
   "cell_type": "markdown",
   "metadata": {},
   "source": [
    "Someone who is 5' 5\" and 140 pounds has a BMI of 23."
   ]
  },
  {
   "cell_type": "code",
   "execution_count": 36,
   "metadata": {
    "deletable": false,
    "editable": false,
    "nbgrader": {
     "cell_type": "code",
     "checksum": "4c2faa38fce05ca9b3f82ae178635836",
     "grade": true,
     "grade_id": "bmi_test2",
     "locked": true,
     "points": 2,
     "schema_version": 3,
     "solution": false
    }
   },
   "outputs": [],
   "source": [
    "assert bmi(65,140) == 23"
   ]
  },
  {
   "cell_type": "markdown",
   "metadata": {},
   "source": [
    "###  <span style=\"color:seagreen\">Exercise 2.2: </span>`pmt`"
   ]
  },
  {
   "cell_type": "markdown",
   "metadata": {},
   "source": [
    "To determine the monthly payment on a loan first compute a value $r$ using this formula:\n",
    "\n",
    "$$\n",
    "r = \\mathrm{rate} \\, / \\, 100 \\, / \\, 12\n",
    "$$\n",
    "\n",
    "where `rate` is the annual interest rate.  Next compute a value $p$ defined as\n",
    "\n",
    "$$\n",
    "p = 12 \\times \\mathrm{years}\n",
    "$$\n",
    "\n",
    "where `years` is the length of the loan in years.\n",
    "\n",
    "Then use the values of $r$ and $p$ in this formula to compute the monthly payment:\n",
    "\n",
    "$$\n",
    "\\mathrm{payment} = \\frac{r \\times \\mathrm{amt}}{1 - (1 + r)^{-p}}\n",
    "$$\n",
    "\n",
    "where `amt` is the loan amount.\n",
    "\n",
    "Define a Python function named `pmt` that takes three arguments:  a loan amount, an annual interest rate, and the number of years to repay the loan.  The return value should be the monthly payment amount, rounded to two decimal places."
   ]
  },
  {
   "cell_type": "code",
   "execution_count": 47,
   "metadata": {
    "deletable": false,
    "nbgrader": {
     "cell_type": "code",
     "checksum": "e94bcdf9269ce94e040add9bc294a12c",
     "grade": true,
     "grade_id": "pmt",
     "locked": false,
     "points": 6,
     "schema_version": 3,
     "solution": true
    }
   },
   "outputs": [],
   "source": [
    "def pmt(amt, rate, years):\n",
    "    # YOUR CODE HERE\n",
    "    r = rate/100/12\n",
    "    p = 12*years\n",
    "    monthly_payment = (r*amt)/(1-(1+r)**(-p))\n",
    "    return round(monthly_payment, 2)"
   ]
  },
  {
   "cell_type": "code",
   "execution_count": 86,
   "metadata": {},
   "outputs": [
    {
     "data": {
      "text/plain": [
       "193.6"
      ]
     },
     "execution_count": 86,
     "metadata": {},
     "output_type": "execute_result"
    }
   ],
   "source": [
    "pmt(12000,15,10)"
   ]
  },
  {
   "cell_type": "markdown",
   "metadata": {},
   "source": [
    "##### Tests "
   ]
  },
  {
   "cell_type": "markdown",
   "metadata": {},
   "source": [
    "If a person takes out a 30-year loan for $\\$150,000$ at an annual interest rate of $4.5\\%$\n",
    "their monthly payment would be $\\$760.03$."
   ]
  },
  {
   "cell_type": "code",
   "execution_count": 48,
   "metadata": {
    "deletable": false,
    "editable": false,
    "nbgrader": {
     "cell_type": "code",
     "checksum": "52cb46641f0e69450cf4afb07f871599",
     "grade": true,
     "grade_id": "pmt_1",
     "locked": true,
     "points": 2,
     "schema_version": 3,
     "solution": false
    }
   },
   "outputs": [],
   "source": [
    "assert pmt(150000, 4.5, 30) == 760.03"
   ]
  },
  {
   "cell_type": "markdown",
   "metadata": {},
   "source": [
    "Want to buy a new Tesla Model X?  If you take out a 7-year loan at current interest rates (3.67\\%) you would have to pay \\$1,196.29 per month."
   ]
  },
  {
   "cell_type": "code",
   "execution_count": 49,
   "metadata": {
    "deletable": false,
    "editable": false,
    "nbgrader": {
     "cell_type": "code",
     "checksum": "70354e684dd1d8b81b8e5b85a40818be",
     "grade": true,
     "grade_id": "cell-98d1956b864fc9c4",
     "locked": true,
     "points": 2,
     "schema_version": 3,
     "solution": false,
     "task": false
    }
   },
   "outputs": [],
   "source": [
    "assert pmt(88500, 3.67, 7) == 1196.29"
   ]
  },
  {
   "cell_type": "markdown",
   "metadata": {},
   "source": [
    "###  <span style=\"color:seagreen\">Exercise 2.3: </span>`lcm`"
   ]
  },
  {
   "cell_type": "markdown",
   "metadata": {},
   "source": [
    "The least common multiple (LCM) of two integers $a$ and $b$ is the smallest number that is evenly divisible by both $a$ and $b$.\n",
    "\n",
    "For example, suppose $a = 4$ and $b = 6$. The number $48$ is a common multiple because $48$ is evenly divisible by both $4$ and $6$. But the _smallest_ number that is evenly divisible by both $4$ and $6$ is $12$.\n",
    "\n",
    "It’s simple to compute the LCM of two numbers if we know their greatest common divisor (GCD). The GCD of two numbers is the largest factor they have in common. If we factor the two numbers, $4 = 2 \\times 2$ and $6 = 3 \\times 2$, and we can see the largest common factor is $2$, so $\\mathrm{gcd}(4, 6) = 2$.\n",
    "\n",
    "Here is the formula for the least common multiple, assuming we know the GCD (https://en.wikipedia.org/wiki/Least_common_multiple).\n",
    "Assuming $a$ and $b$ are both positive integers:"
   ]
  },
  {
   "cell_type": "markdown",
   "metadata": {},
   "source": [
    "$$\n",
    "\\mathrm{lcm}(a,b)= \\frac{a \\times b}{\\mathrm{gcd}(a, b)}\n",
    "$$"
   ]
  },
  {
   "cell_type": "markdown",
   "metadata": {},
   "source": [
    "Define a function that computes the least common multiple of two integers.\n",
    "Python (version 3.5 and later) has a `gcd` function you can use.\n",
    "This cell starts with an import statement that fetches the function from the `math` library."
   ]
  },
  {
   "cell_type": "code",
   "execution_count": 50,
   "metadata": {
    "deletable": false,
    "nbgrader": {
     "cell_type": "code",
     "checksum": "1d61fec7ce106aec3eee5c5347962510",
     "grade": true,
     "grade_id": "repeat",
     "locked": false,
     "points": 6,
     "schema_version": 3,
     "solution": true
    }
   },
   "outputs": [],
   "source": [
    "from math import gcd\n",
    "\n",
    "def lcm(a,b):\n",
    "    # YOUR CODE HERE\n",
    "    lc_multiple = (a*b)/(gcd(a,b))\n",
    "    return lc_multiple"
   ]
  },
  {
   "cell_type": "code",
   "execution_count": 55,
   "metadata": {},
   "outputs": [
    {
     "data": {
      "text/plain": [
       "100.0"
      ]
     },
     "execution_count": 55,
     "metadata": {},
     "output_type": "execute_result"
    }
   ],
   "source": [
    "lcm(100,50)"
   ]
  },
  {
   "cell_type": "code",
   "execution_count": 52,
   "metadata": {},
   "outputs": [
    {
     "data": {
      "text/plain": [
       "32.0"
      ]
     },
     "execution_count": 52,
     "metadata": {},
     "output_type": "execute_result"
    }
   ],
   "source": [
    "lcm(32,8)"
   ]
  },
  {
   "cell_type": "markdown",
   "metadata": {},
   "source": [
    "##### Tests "
   ]
  },
  {
   "cell_type": "markdown",
   "metadata": {},
   "source": [
    "The LCM of 4 and 6 is 12:"
   ]
  },
  {
   "cell_type": "code",
   "execution_count": 53,
   "metadata": {
    "deletable": false,
    "editable": false,
    "nbgrader": {
     "cell_type": "code",
     "checksum": "64a18d9966935b0e1360c01ef76109fa",
     "grade": true,
     "grade_id": "cell-35159a846e21db3e",
     "locked": true,
     "points": 2,
     "schema_version": 3,
     "solution": false,
     "task": false
    }
   },
   "outputs": [],
   "source": [
    "assert lcm(4,6) == 12"
   ]
  },
  {
   "cell_type": "markdown",
   "metadata": {},
   "source": [
    "The LCM of 21 and 6 is 42:"
   ]
  },
  {
   "cell_type": "code",
   "execution_count": 54,
   "metadata": {
    "deletable": false,
    "editable": false,
    "nbgrader": {
     "cell_type": "code",
     "checksum": "5293adca8f1e6ea80477af8716a07c6b",
     "grade": true,
     "grade_id": "cell-6dcc9be208bd6f87",
     "locked": true,
     "points": 2,
     "schema_version": 3,
     "solution": false,
     "task": false
    }
   },
   "outputs": [],
   "source": [
    "assert lcm(21,6) == 42"
   ]
  },
  {
   "cell_type": "markdown",
   "metadata": {},
   "source": [
    "###  <span style=\"color:seagreen\">Exercise 2.4: </span>`tax_rate`"
   ]
  },
  {
   "cell_type": "markdown",
   "metadata": {},
   "source": [
    "A state has defined their income tax rates so that people who earn less than $\\$10,000$ pay no taxes, people who earn between $\\$10,000$ and $\\$19,999$ pay $5\\%$, and people who earn $\\$20,000$ or more pay $7\\%$."
   ]
  },
  {
   "cell_type": "markdown",
   "metadata": {},
   "source": [
    "Define a function named `tax_rate` that will take a person's income as an argument and return their tax rate, either 0, 5.0, or 7.0, using the rule described above."
   ]
  },
  {
   "cell_type": "code",
   "execution_count": 68,
   "metadata": {
    "deletable": false,
    "nbgrader": {
     "cell_type": "code",
     "checksum": "63edd1fbf40f84eae8094298de06226d",
     "grade": true,
     "grade_id": "cell-dac2acfcf3298187",
     "locked": false,
     "points": 7,
     "schema_version": 3,
     "solution": true,
     "task": false
    }
   },
   "outputs": [],
   "source": [
    "def tax_rate(x):\n",
    "    # YOUR CODE HERE\n",
    "    if x < 10000:\n",
    "        return round(0,1)\n",
    "    elif 10000 < x < 19999:\n",
    "        return 5\n",
    "    elif x >= 20000:\n",
    "        return(round(7,1))"
   ]
  },
  {
   "cell_type": "code",
   "execution_count": 69,
   "metadata": {},
   "outputs": [
    {
     "data": {
      "text/plain": [
       "7"
      ]
     },
     "execution_count": 69,
     "metadata": {},
     "output_type": "execute_result"
    }
   ],
   "source": [
    "tax_rate(25000)"
   ]
  },
  {
   "cell_type": "code",
   "execution_count": 70,
   "metadata": {},
   "outputs": [
    {
     "data": {
      "text/plain": [
       "0"
      ]
     },
     "execution_count": 70,
     "metadata": {},
     "output_type": "execute_result"
    }
   ],
   "source": [
    "tax_rate(1)"
   ]
  },
  {
   "cell_type": "markdown",
   "metadata": {},
   "source": [
    "##### Tests "
   ]
  },
  {
   "cell_type": "markdown",
   "metadata": {},
   "source": [
    "The tax rate for $\\$15,000$ income is 5.0."
   ]
  },
  {
   "cell_type": "code",
   "execution_count": 71,
   "metadata": {
    "deletable": false,
    "editable": false,
    "nbgrader": {
     "cell_type": "code",
     "checksum": "1f251e1a57e7f859286bb5631043c72f",
     "grade": true,
     "grade_id": "cell-a198130ab8da8830",
     "locked": true,
     "points": 1,
     "schema_version": 3,
     "solution": false,
     "task": false
    }
   },
   "outputs": [],
   "source": [
    "assert tax_rate(15000) == 5.0"
   ]
  },
  {
   "cell_type": "markdown",
   "metadata": {},
   "source": [
    "The tax rate for $\\$5,000$ income is 0."
   ]
  },
  {
   "cell_type": "code",
   "execution_count": 72,
   "metadata": {
    "deletable": false,
    "editable": false,
    "nbgrader": {
     "cell_type": "code",
     "checksum": "a0f75db915c3f48dfee96c62fa7c6440",
     "grade": true,
     "grade_id": "cell-b0138ad46a65661d",
     "locked": true,
     "points": 1,
     "schema_version": 3,
     "solution": false,
     "task": false
    }
   },
   "outputs": [],
   "source": [
    "assert tax_rate(5000) == 0"
   ]
  },
  {
   "cell_type": "markdown",
   "metadata": {},
   "source": [
    "The tax rate for $\\$50,000$ income is 7.0."
   ]
  },
  {
   "cell_type": "code",
   "execution_count": 73,
   "metadata": {
    "deletable": false,
    "editable": false,
    "nbgrader": {
     "cell_type": "code",
     "checksum": "2b500e3cadd055b5c3d5f1906f7aebf3",
     "grade": true,
     "grade_id": "cell-a53b1a4573288415",
     "locked": true,
     "points": 1,
     "schema_version": 3,
     "solution": false,
     "task": false
    }
   },
   "outputs": [],
   "source": [
    "assert tax_rate(50000) == 7.0"
   ]
  },
  {
   "cell_type": "markdown",
   "metadata": {},
   "source": [
    "###  <span style=\"color:seagreen\">Exercise 2.5: </span>`pig`"
   ]
  },
  {
   "cell_type": "markdown",
   "metadata": {},
   "source": [
    "Define a function named `pig` that translates an English word into \"Pig Latin\".  Some examples:\n",
    "```\n",
    ">>> pig('beer')\n",
    "eerbay\n",
    "\n",
    ">>> pig('ale')\n",
    "aleway\n",
    "```\n",
    "\n",
    "A complete set of rules can be found on Wikipedia (https://en.wikipedia.org/wiki/Pig_Latin).  For this exercise you only need to implement the two simplest rules:\n",
    "* If a word starts with a vowel (`a`, `e`, `i`, `o`, or `u`) just append `way` to the end of the word\n",
    "* Otherwise remove the first letter, move it to the end, and append `ay`\n"
   ]
  },
  {
   "cell_type": "code",
   "execution_count": 19,
   "metadata": {
    "deletable": false,
    "nbgrader": {
     "cell_type": "code",
     "checksum": "9c72a63a93852dee81adc776a5287b25",
     "grade": true,
     "grade_id": "cell-1df4d6f7bee54fba",
     "locked": false,
     "points": 6,
     "schema_version": 3,
     "solution": true,
     "task": false
    }
   },
   "outputs": [],
   "source": [
    "def pig(s):\n",
    "    # YOUR CODE HERE\n",
    "    if s[0] in ('a', 'e', 'i', 'o', 'u'):\n",
    "        return(s +'way')\n",
    "    else:\n",
    "        return((s[1:] + s[0]) + 'ay')"
   ]
  },
  {
   "cell_type": "code",
   "execution_count": 20,
   "metadata": {
    "deletable": false,
    "editable": false,
    "nbgrader": {
     "cell_type": "code",
     "checksum": "e063663375a14eafc784151833120c15",
     "grade": true,
     "grade_id": "cell-71c02bfacfca1463",
     "locked": true,
     "points": 2,
     "schema_version": 3,
     "solution": false,
     "task": false
    }
   },
   "outputs": [],
   "source": [
    "assert pig('beer') == 'eerbay'"
   ]
  },
  {
   "cell_type": "code",
   "execution_count": 21,
   "metadata": {
    "deletable": false,
    "editable": false,
    "nbgrader": {
     "cell_type": "code",
     "checksum": "da2faf978332dc1d77dbf974945323c5",
     "grade": true,
     "grade_id": "cell-c26c30852b961e0c",
     "locked": true,
     "points": 2,
     "schema_version": 3,
     "solution": false,
     "task": false
    }
   },
   "outputs": [],
   "source": [
    "assert pig('ale') == 'aleway'"
   ]
  },
  {
   "cell_type": "markdown",
   "metadata": {},
   "source": [
    "##### Style Challenge "
   ]
  },
  {
   "cell_type": "markdown",
   "metadata": {},
   "source": [
    "Can you write your program so the test for a vowel at the front of a word is done with a single `if` statement? _i.e._ see if you can avoid a “cascade” of `if-elif` statements."
   ]
  },
  {
   "cell_type": "markdown",
   "metadata": {},
   "source": [
    "##### Optional Challenge "
   ]
  },
  {
   "cell_type": "markdown",
   "metadata": {},
   "source": [
    "Implement some of the other rules described on the Wikipedia page.  If a word starts with more than one consonant all of them should be moved to the end:\n",
    "```\n",
    ">>> pig('whiskey')\n",
    "iskeywhay\n",
    "\n",
    ">>> pig('string')\n",
    "ingstray\n",
    "```"
   ]
  }
 ],
 "metadata": {
  "kernel_info": {
   "name": "python3"
  },
  "kernelspec": {
   "display_name": "Python 3",
   "language": "python",
   "name": "python3"
  },
  "language_info": {
   "codemirror_mode": {
    "name": "ipython",
    "version": 3
   },
   "file_extension": ".py",
   "mimetype": "text/x-python",
   "name": "python",
   "nbconvert_exporter": "python",
   "pygments_lexer": "ipython3",
   "version": "3.7.3"
  },
  "nteract": {
   "version": "0.3.4"
  },
  "varInspector": {
   "cols": {
    "lenName": 16,
    "lenType": 16,
    "lenVar": 40
   },
   "kernels_config": {
    "python": {
     "delete_cmd_postfix": "",
     "delete_cmd_prefix": "del ",
     "library": "var_list.py",
     "varRefreshCmd": "print(var_dic_list())"
    },
    "r": {
     "delete_cmd_postfix": ") ",
     "delete_cmd_prefix": "rm(",
     "library": "var_list.r",
     "varRefreshCmd": "cat(var_dic_list()) "
    }
   },
   "types_to_exclude": [
    "module",
    "function",
    "builtin_function_or_method",
    "instance",
    "_Feature"
   ],
   "window_display": false
  }
 },
 "nbformat": 4,
 "nbformat_minor": 4
}

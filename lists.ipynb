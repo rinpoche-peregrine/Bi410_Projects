{
 "cells": [
  {
   "cell_type": "markdown",
   "metadata": {},
   "source": [
    "#### Bi 410/510 (Fall 2019)"
   ]
  },
  {
   "cell_type": "markdown",
   "metadata": {},
   "source": [
    "Before you turn this problem in, make sure everything runs as expected. First, **restart the kernel** (in the menubar, select Kernel$\\rightarrow$Restart) and then **run all cells** (in the menubar, select Cell$\\rightarrow$Run All).\n",
    "\n",
    "Make sure you fill in any place that says `YOUR CODE HERE` or \"YOUR ANSWER HERE\", as well as your name and collaborators below:"
   ]
  },
  {
   "cell_type": "markdown",
   "metadata": {},
   "source": [
    "**Group Members**\n",
    "\n",
    "If this is a group submission edit this cell to add the names and e-mail addresses of the othrer people who worked on the project.\n",
    "* Peregrine Painter 951521340\n",
    "* Alex Wong 951549455\n",
    "* Dorian Yeh 951465043"
   ]
  },
  {
   "cell_type": "code",
   "execution_count": null,
   "metadata": {},
   "outputs": [],
   "source": []
  },
  {
   "cell_type": "markdown",
   "metadata": {},
   "source": [
    "# <span style=\"color:seagreen;\">Project 4: &nbsp; Lists and Loops</span>"
   ]
  },
  {
   "cell_type": "markdown",
   "metadata": {},
   "source": [
    "###  <span style=\"color:seagreen\">Instructions</span>"
   ]
  },
  {
   "cell_type": "markdown",
   "metadata": {},
   "source": [
    "The exercises in this notebook require you to write the definitions of a set of Python functions. Each exercise has several notebook cells:\n",
    "* the function you need to write is described in a set of markdown cells\n",
    "* next is a code cell where you should enter the Python code for your function definition\n",
    "* following that are one or more \"test\" cells, code cells that contain calls to your function\n",
    "\n",
    "As you write the code for your functions you can execute the test cells to see if your code is working.  Feel free to add additional tests if you want.\n",
    "\n",
    "Submit the final notebook via Canvas.  **If you worked in a group only one person has to submit the project (but make sure everyone's name is in the first cell).**"
   ]
  },
  {
   "cell_type": "markdown",
   "metadata": {},
   "source": [
    "###  <span style=\"color:seagreen\">Exercise 4.1: </span>`mean_length`"
   ]
  },
  {
   "cell_type": "markdown",
   "metadata": {},
   "source": [
    "Implement a function named `mean_length` that will compute the average (mean) length of set of strings.  The argument passed to the function is a list of string objects, and the return value should be the mean length of the strings.\n",
    "\n",
    "**Note:** If the list is empty the function should return 0."
   ]
  },
  {
   "cell_type": "code",
   "execution_count": 1,
   "metadata": {
    "deletable": false,
    "nbgrader": {
     "cell_type": "code",
     "checksum": "00454cbe55f7c1a1d01e7974bd92e971",
     "grade": true,
     "grade_id": "mean_length",
     "locked": false,
     "points": 10,
     "schema_version": 3,
     "solution": true
    }
   },
   "outputs": [],
   "source": [
    "def mean_length(lst):\n",
    "    total_l = 0\n",
    "    for n in lst:\n",
    "        total_l += len(n)\n",
    "#         print(n)\n",
    "#     print(total_l, itterations)\n",
    "    if total_l == 0:\n",
    "        return 0\n",
    "    else:\n",
    "        return total_l/len(lst)\n",
    "#     print(avg_len)"
   ]
  },
  {
   "cell_type": "markdown",
   "metadata": {},
   "source": [
    "##### Sandbox "
   ]
  },
  {
   "cell_type": "markdown",
   "metadata": {},
   "source": [
    "Add code cells here to test your function as you develop it."
   ]
  },
  {
   "cell_type": "code",
   "execution_count": 2,
   "metadata": {},
   "outputs": [
    {
     "data": {
      "text/plain": [
       "0"
      ]
     },
     "execution_count": 2,
     "metadata": {},
     "output_type": "execute_result"
    }
   ],
   "source": [
    "mean_length(['fee', 'free', 'freed'])\n",
    "mean_length([])"
   ]
  },
  {
   "cell_type": "markdown",
   "metadata": {},
   "source": [
    "##### Tests "
   ]
  },
  {
   "cell_type": "code",
   "execution_count": 3,
   "metadata": {
    "deletable": false,
    "editable": false,
    "nbgrader": {
     "cell_type": "code",
     "checksum": "77d9560e999e8be8571ea5c7538c1b42",
     "grade": true,
     "grade_id": "mean_length_test1",
     "locked": true,
     "points": 3,
     "schema_version": 3,
     "solution": false
    }
   },
   "outputs": [],
   "source": [
    "assert mean_length(['fee', 'free', 'freed']) == 4"
   ]
  },
  {
   "cell_type": "code",
   "execution_count": 4,
   "metadata": {
    "deletable": false,
    "editable": false,
    "nbgrader": {
     "cell_type": "code",
     "checksum": "43ed662d06b131489404782cb5dbbf54",
     "grade": true,
     "grade_id": "mean_length_test2",
     "locked": true,
     "points": 3,
     "schema_version": 3,
     "solution": false
    }
   },
   "outputs": [],
   "source": [
    "assert mean_length(['alpha', 'beta', 'gamma', 'delta', 'epsilon']) == 5.2"
   ]
  },
  {
   "cell_type": "code",
   "execution_count": 5,
   "metadata": {
    "deletable": false,
    "editable": false,
    "nbgrader": {
     "cell_type": "code",
     "checksum": "6b73bc88d9eecdbf238e5d9cedb489f7",
     "grade": true,
     "grade_id": "mean_length_test3",
     "locked": true,
     "points": 4,
     "schema_version": 3,
     "solution": false,
     "task": false
    }
   },
   "outputs": [],
   "source": [
    "assert mean_length([]) == 0"
   ]
  },
  {
   "cell_type": "markdown",
   "metadata": {},
   "source": [
    "###  <span style=\"color:seagreen\">Exercise 4.2: </span>`valid_password`"
   ]
  },
  {
   "cell_type": "markdown",
   "metadata": {},
   "source": [
    "Implement a function named `valid_password` that will be passed a string `s`.  The function return a Boolean value (`True` or `False`) depending on whether `s` is a valid password.  For this project, a valid password:\n",
    "* must contain at least one letter, one digit, and one punctuation character\n",
    "* must not contain any other character\n",
    "* must be at least 8 characters long\n",
    "\n",
    "This code cell imports some useful strings from Python's `string` library -- you can use them if you want.  See the lecture notes on loops (`Python IV`) for more information."
   ]
  },
  {
   "cell_type": "code",
   "execution_count": 6,
   "metadata": {},
   "outputs": [],
   "source": [
    "from string import ascii_letters, digits, punctuation"
   ]
  },
  {
   "cell_type": "code",
   "execution_count": 175,
   "metadata": {
    "deletable": false,
    "nbgrader": {
     "cell_type": "code",
     "checksum": "871a62386efd9bd4dcaa10c360ac7772",
     "grade": true,
     "grade_id": "validate",
     "locked": false,
     "points": 8,
     "schema_version": 3,
     "solution": true
    }
   },
   "outputs": [],
   "source": [
    "def valid_password(s):\n",
    "    if len(s) < 8:\n",
    "        return False\n",
    "    elif not any(n in ascii_letters for n in s) or not any(n in digits for n in s) or not any(n in punctuation for n in s): #1 of\n",
    "        return False\n",
    "    elif not all(n in (ascii_letters + digits + punctuation) for n in s): #other symbols\n",
    "        return False\n",
    "    else:\n",
    "        return True\n"
   ]
  },
  {
   "cell_type": "markdown",
   "metadata": {},
   "source": [
    "##### Sandbox "
   ]
  },
  {
   "cell_type": "markdown",
   "metadata": {},
   "source": [
    "Add code cells here to test your function as you develop it."
   ]
  },
  {
   "cell_type": "code",
   "execution_count": 184,
   "metadata": {},
   "outputs": [
    {
     "name": "stdout",
     "output_type": "stream",
     "text": [
      "abcdefghijklmnopqrstuvwxyzABCDEFGHIJKLMNOPQRSTUVWXYZ0123456789!\"#$%&'()*+,-./:;<=>?@[\\]^_`{|}~\n"
     ]
    },
    {
     "data": {
      "text/plain": [
       "False"
      ]
     },
     "execution_count": 184,
     "metadata": {},
     "output_type": "execute_result"
    }
   ],
   "source": [
    "valid_password(\"          2!a  \")\n",
    "print((ascii_letters + digits + punctuation))\n",
    "s= 'asdaef34124124!!!😒!'\n",
    "all(n in (ascii_letters + digits + punctuation) for n in s)"
   ]
  },
  {
   "cell_type": "markdown",
   "metadata": {},
   "source": [
    "##### Tests "
   ]
  },
  {
   "cell_type": "code",
   "execution_count": 177,
   "metadata": {
    "deletable": false,
    "editable": false,
    "nbgrader": {
     "cell_type": "code",
     "checksum": "54c92c2f64d25bf8003e30af0cc27603",
     "grade": true,
     "grade_id": "vp_1",
     "locked": true,
     "points": 2,
     "schema_version": 3,
     "solution": false
    }
   },
   "outputs": [],
   "source": [
    "assert valid_password('Password0.0')"
   ]
  },
  {
   "cell_type": "code",
   "execution_count": 178,
   "metadata": {
    "deletable": false,
    "editable": false,
    "nbgrader": {
     "cell_type": "code",
     "checksum": "551584a142e32a3ec3e1ecbab64ff0a1",
     "grade": true,
     "grade_id": "vp_2",
     "locked": true,
     "points": 2,
     "schema_version": 3,
     "solution": false,
     "task": false
    }
   },
   "outputs": [],
   "source": [
    "assert not valid_password('JSC')         # too short"
   ]
  },
  {
   "cell_type": "code",
   "execution_count": 179,
   "metadata": {
    "deletable": false,
    "editable": false,
    "nbgrader": {
     "cell_type": "code",
     "checksum": "7c6a14af50015c863b3fd76879930f89",
     "grade": true,
     "grade_id": "vp_3",
     "locked": true,
     "points": 2,
     "schema_version": 3,
     "solution": false,
     "task": false
    }
   },
   "outputs": [],
   "source": [
    "assert not valid_password('John2019')    # missing punctuation"
   ]
  },
  {
   "cell_type": "code",
   "execution_count": 180,
   "metadata": {
    "deletable": false,
    "editable": false,
    "nbgrader": {
     "cell_type": "code",
     "checksum": "0ddad1fd01d6da57edac631e8e65f3ed",
     "grade": true,
     "grade_id": "vp_4",
     "locked": true,
     "points": 2,
     "schema_version": 3,
     "solution": false,
     "task": false
    }
   },
   "outputs": [],
   "source": [
    "assert not valid_password('John!?xx')    # missing digit"
   ]
  },
  {
   "cell_type": "code",
   "execution_count": 181,
   "metadata": {
    "deletable": false,
    "editable": false,
    "nbgrader": {
     "cell_type": "code",
     "checksum": "3c545ba3d5fcc03cb1b23473497bd6a8",
     "grade": true,
     "grade_id": "vp_5",
     "locked": true,
     "points": 2,
     "schema_version": 3,
     "solution": false,
     "task": false
    }
   },
   "outputs": [],
   "source": [
    "assert not valid_password('2019#$%^')    # missing letter"
   ]
  },
  {
   "cell_type": "code",
   "execution_count": 182,
   "metadata": {
    "deletable": false,
    "editable": false,
    "nbgrader": {
     "cell_type": "code",
     "checksum": "31052d7a8191f2433cf5f206f85970df",
     "grade": true,
     "grade_id": "vp_6",
     "locked": true,
     "points": 2,
     "schema_version": 3,
     "solution": false,
     "task": false
    }
   },
   "outputs": [],
   "source": [
    "assert not valid_password('DumbRul3!😒')    # can't have other symbols"
   ]
  },
  {
   "cell_type": "markdown",
   "metadata": {},
   "source": [
    "###  <span style=\"color:seagreen\">Exercise 4.3: </span>`similarity`"
   ]
  },
  {
   "cell_type": "markdown",
   "metadata": {},
   "source": [
    "Define a function named `similarity` that computes the similarity of two DNA sequences. \n",
    "Return `None` if the sequences are not the same length.\n",
    "If they are the same length, compute the similarity as the percentage of locations that are the same in each sequence. \n",
    "If the sequences are identical similarity is 100%, if they differ at every location they are 0% similar."
   ]
  },
  {
   "cell_type": "code",
   "execution_count": 157,
   "metadata": {
    "deletable": false,
    "nbgrader": {
     "cell_type": "code",
     "checksum": "79689e0da3e71ba745d0442e2d76d4c7",
     "grade": true,
     "grade_id": "similarity",
     "locked": false,
     "points": 12,
     "schema_version": 3,
     "solution": true
    }
   },
   "outputs": [],
   "source": [
    "def similarity(seq1, seq2):\n",
    "    if len(seq1) != len(seq2): # are sequences equal length?\n",
    "        return None\n",
    "    else:\n",
    "        counter = 0\n",
    "        for n in range(len(seq1)): # for each letter index:\n",
    "            if seq1[n] == seq2[n]: # if they are the same,\n",
    "                counter += 1    # count 1\n",
    "#                 print(counter)\n",
    "        return counter/len(seq1)*100 # count/total=%\n",
    "            "
   ]
  },
  {
   "cell_type": "markdown",
   "metadata": {},
   "source": [
    "##### Sandbox "
   ]
  },
  {
   "cell_type": "markdown",
   "metadata": {},
   "source": [
    "Add code cells here to test your function as you develop it."
   ]
  },
  {
   "cell_type": "code",
   "execution_count": 152,
   "metadata": {},
   "outputs": [
    {
     "data": {
      "text/plain": [
       "50.0"
      ]
     },
     "execution_count": 152,
     "metadata": {},
     "output_type": "execute_result"
    }
   ],
   "source": [
    "similarity('ATATATAT','AAAAAAAA')"
   ]
  },
  {
   "cell_type": "markdown",
   "metadata": {},
   "source": [
    "##### Tests "
   ]
  },
  {
   "cell_type": "code",
   "execution_count": 159,
   "metadata": {
    "deletable": false,
    "editable": false,
    "nbgrader": {
     "cell_type": "code",
     "checksum": "d5181e74c393f2cab40fe9d47aa4e777",
     "grade": true,
     "grade_id": "cell-fd564130bd21c61a",
     "locked": true,
     "points": 2,
     "schema_version": 3,
     "solution": false,
     "task": false
    }
   },
   "outputs": [],
   "source": [
    "assert similarity('ATATATAT','AAAAAAAA') == 50.0"
   ]
  },
  {
   "cell_type": "code",
   "execution_count": 160,
   "metadata": {
    "deletable": false,
    "editable": false,
    "nbgrader": {
     "cell_type": "code",
     "checksum": "e5d4f7db59d45eb1b4488888c1fb372a",
     "grade": true,
     "grade_id": "cell-e674894c1554ab96",
     "locked": true,
     "points": 2,
     "schema_version": 3,
     "solution": false,
     "task": false
    }
   },
   "outputs": [],
   "source": [
    "assert similarity('AAAAAAA','AAAAAAA') == 100.0"
   ]
  },
  {
   "cell_type": "code",
   "execution_count": 161,
   "metadata": {
    "deletable": false,
    "editable": false,
    "nbgrader": {
     "cell_type": "code",
     "checksum": "1f96f97dce820575923d511cd450b136",
     "grade": true,
     "grade_id": "cell-9ed1e5589de90016",
     "locked": true,
     "points": 2,
     "schema_version": 3,
     "solution": false,
     "task": false
    }
   },
   "outputs": [],
   "source": [
    "assert similarity('AAAA','CCCC') == 0.0"
   ]
  },
  {
   "cell_type": "code",
   "execution_count": 162,
   "metadata": {
    "deletable": false,
    "editable": false,
    "nbgrader": {
     "cell_type": "code",
     "checksum": "d358305553caa1d48d8c22bb49c27469",
     "grade": true,
     "grade_id": "cell-7fb65a90116ee774",
     "locked": true,
     "points": 2,
     "schema_version": 3,
     "solution": false,
     "task": false
    }
   },
   "outputs": [],
   "source": [
    "assert similarity('AAAAAAA', 'CCC') is None"
   ]
  },
  {
   "cell_type": "markdown",
   "metadata": {},
   "source": [
    "###  <span style=\"color:seagreen\">Exercise 4.4: </span>`max_infection`"
   ]
  },
  {
   "cell_type": "markdown",
   "metadata": {},
   "source": [
    "Suppose researchers have analyzed data from the spread of a particular disease and have fit the data to the following model, which predicts the number of people in a small population who will have the disease on day $t$:"
   ]
  },
  {
   "cell_type": "markdown",
   "metadata": {},
   "source": [
    "$$\n",
    "p(t) = \\frac{20t^3 - t^4}{1000}\n",
    "$$"
   ]
  },
  {
   "cell_type": "markdown",
   "metadata": {},
   "source": [
    "Define a function named `max_infection` that will compute $p(t)$ for 20 days (_i.e._ for $1 \\leq t \\leq 20$) and return two values:  the day at which the most people are infected, and the number of people infected on that day.\n",
    "\n",
    "There are no arguments passed to this function.  The expected answer is 16.875 people infected on day 15."
   ]
  },
  {
   "cell_type": "code",
   "execution_count": 31,
   "metadata": {
    "deletable": false,
    "nbgrader": {
     "cell_type": "code",
     "checksum": "c0c786cdb39542a50ee7a2649fd97a9c",
     "grade": true,
     "grade_id": "max_infection",
     "locked": false,
     "points": 12,
     "schema_version": 3,
     "solution": true,
     "task": false
    }
   },
   "outputs": [],
   "source": [
    "def max_infection():\n",
    "    p_max = 0\n",
    "    for t in range(1,21):\n",
    "        p_t = (20*t**3-t**4)/1000\n",
    "        if p_max < p_t:\n",
    "            p_max = p_t\n",
    "            day_max = t\n",
    "            \n",
    "    return (day_max, p_max)"
   ]
  },
  {
   "cell_type": "markdown",
   "metadata": {},
   "source": [
    "##### Sandbox "
   ]
  },
  {
   "cell_type": "markdown",
   "metadata": {},
   "source": [
    "Add code cells here to test your function as you develop it."
   ]
  },
  {
   "cell_type": "code",
   "execution_count": 33,
   "metadata": {},
   "outputs": [
    {
     "data": {
      "text/plain": [
       "(15, 16.875)"
      ]
     },
     "execution_count": 33,
     "metadata": {},
     "output_type": "execute_result"
    }
   ],
   "source": [
    "max_infection()"
   ]
  },
  {
   "cell_type": "markdown",
   "metadata": {},
   "source": [
    "##### Tests "
   ]
  },
  {
   "cell_type": "markdown",
   "metadata": {},
   "source": [
    "The expected output is the pair of numbers `(15, 16.875)`:"
   ]
  },
  {
   "cell_type": "code",
   "execution_count": 34,
   "metadata": {
    "deletable": false,
    "editable": false,
    "nbgrader": {
     "cell_type": "code",
     "checksum": "2535b96cbbfe7c69f59683ec1a92a3ed",
     "grade": true,
     "grade_id": "cell-a5484d2e0169d580",
     "locked": true,
     "points": 8,
     "schema_version": 3,
     "solution": false,
     "task": false
    }
   },
   "outputs": [],
   "source": [
    "assert max_infection() == (15, 16.875)"
   ]
  },
  {
   "cell_type": "markdown",
   "metadata": {},
   "source": [
    "###  <span style=\"color:seagreen\">Exercise 4.5: </span>`codons`"
   ]
  },
  {
   "cell_type": "markdown",
   "metadata": {},
   "source": [
    "Write a function named `codons` that will return the list of 3-letter substrings of the string passed as an argument.  If the length of the input sequence is not a multiple of 3 the last codon will have less than three letters."
   ]
  },
  {
   "cell_type": "code",
   "execution_count": null,
   "metadata": {
    "deletable": false,
    "nbgrader": {
     "cell_type": "code",
     "checksum": "763652aacbf3bc2ee1ffe41596d3c9c9",
     "grade": true,
     "grade_id": "codons",
     "locked": false,
     "points": 10,
     "schema_version": 3,
     "solution": true,
     "task": false
    }
   },
   "outputs": [],
   "source": [
    "from math import ceil\n",
    "def codons(seq):\n",
    "    c_list = [] # make empty list\n",
    "    for n in range(ceil(len(seq)/3)): # itterate for # of codons that can fit, rounding up\n",
    "        c_list += [seq[n*3:n*3+3]] # make a new list of the iterated codon, and append it to the list of codons\n",
    "    return c_list\n",
    "        "
   ]
  },
  {
   "cell_type": "markdown",
   "metadata": {},
   "source": [
    "##### Sandbox "
   ]
  },
  {
   "cell_type": "markdown",
   "metadata": {},
   "source": [
    "Add code cells here to test your function as you develop it."
   ]
  },
  {
   "cell_type": "code",
   "execution_count": 9,
   "metadata": {},
   "outputs": [
    {
     "name": "stdout",
     "output_type": "stream",
     "text": [
      "['talk', 'talk', 'talk', 'talk', 'talk', 'talk']\n"
     ]
    }
   ],
   "source": [
    "l = l + [\"talk\"]\n",
    "print(l)"
   ]
  },
  {
   "cell_type": "code",
   "execution_count": 29,
   "metadata": {},
   "outputs": [
    {
     "data": {
      "text/plain": [
       "3"
      ]
     },
     "execution_count": 29,
     "metadata": {},
     "output_type": "execute_result"
    }
   ],
   "source": [
    "codons('GATTACA')\n",
    "'GATTACA'[6:9]\n",
    "ceil(len('GATTACA')/3)"
   ]
  },
  {
   "cell_type": "markdown",
   "metadata": {},
   "source": [
    "##### Tests "
   ]
  },
  {
   "cell_type": "markdown",
   "metadata": {},
   "source": [
    "This sequence has 4 codons:  `ATG`, `CTC`, `AAG`, and `TAG`:"
   ]
  },
  {
   "cell_type": "code",
   "execution_count": null,
   "metadata": {
    "deletable": false,
    "editable": false,
    "nbgrader": {
     "cell_type": "code",
     "checksum": "e29f619fb21c6f3c23ec573dca8cca23",
     "grade": true,
     "grade_id": "cell-4b54c038886eb31c",
     "locked": true,
     "points": 5,
     "schema_version": 3,
     "solution": false,
     "task": false
    }
   },
   "outputs": [],
   "source": [
    "assert codons('ATGCTCAAGTAG') == ['ATG', 'CTC', 'AAG', 'TAG']"
   ]
  },
  {
   "cell_type": "markdown",
   "metadata": {},
   "source": [
    "This sequence has 2 full codons (`GAT` and `TAC`) and one partial codon (`A`):"
   ]
  },
  {
   "cell_type": "code",
   "execution_count": null,
   "metadata": {
    "deletable": false,
    "editable": false,
    "nbgrader": {
     "cell_type": "code",
     "checksum": "0efe3fc4783efe3c5405ec20911181c1",
     "grade": true,
     "grade_id": "cell-12ff1d7b61501157",
     "locked": true,
     "points": 5,
     "schema_version": 3,
     "solution": false,
     "task": false
    }
   },
   "outputs": [],
   "source": [
    "assert codons('GATTACA') == ['GAT', 'TAC', 'A']"
   ]
  },
  {
   "cell_type": "code",
   "execution_count": null,
   "metadata": {},
   "outputs": [],
   "source": []
  }
 ],
 "metadata": {
  "kernel_info": {
   "name": "python3"
  },
  "kernelspec": {
   "display_name": "Python 3",
   "language": "python",
   "name": "python3"
  },
  "language_info": {
   "codemirror_mode": {
    "name": "ipython",
    "version": 3
   },
   "file_extension": ".py",
   "mimetype": "text/x-python",
   "name": "python",
   "nbconvert_exporter": "python",
   "pygments_lexer": "ipython3",
   "version": "3.7.3"
  },
  "nteract": {
   "version": "0.3.4"
  },
  "varInspector": {
   "cols": {
    "lenName": 16,
    "lenType": 16,
    "lenVar": 40
   },
   "kernels_config": {
    "python": {
     "delete_cmd_postfix": "",
     "delete_cmd_prefix": "del ",
     "library": "var_list.py",
     "varRefreshCmd": "print(var_dic_list())"
    },
    "r": {
     "delete_cmd_postfix": ") ",
     "delete_cmd_prefix": "rm(",
     "library": "var_list.r",
     "varRefreshCmd": "cat(var_dic_list()) "
    }
   },
   "types_to_exclude": [
    "module",
    "function",
    "builtin_function_or_method",
    "instance",
    "_Feature"
   ],
   "window_display": false
  }
 },
 "nbformat": 4,
 "nbformat_minor": 4
}

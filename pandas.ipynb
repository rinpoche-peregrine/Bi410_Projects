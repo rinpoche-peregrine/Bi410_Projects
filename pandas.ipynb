{
 "cells": [
  {
   "cell_type": "markdown",
   "metadata": {},
   "source": [
    "#### Bi 410/510 (Fall 2019)"
   ]
  },
  {
   "cell_type": "markdown",
   "metadata": {},
   "source": [
    "Before you turn this problem in, make sure everything runs as expected. First, **restart the kernel** (in the menubar, select Kernel$\\rightarrow$Restart) and then **run all cells** (in the menubar, select Cell$\\rightarrow$Run All).\n",
    "\n",
    "Make sure you fill in any place that says `YOUR CODE HERE` or \"YOUR ANSWER HERE\", as well as your name and collaborators below:"
   ]
  },
  {
   "cell_type": "markdown",
   "metadata": {},
   "source": [
    "**Group Members**\n",
    "\n",
    "If this is a group submission edit this cell to add the names and e-mail addresses of the other people who worked on the project.\n",
    "* Alex Wong (awong8@uoregon.edu)\n",
    "* Dorian Yeh (dyeh@uoregon.edu)\n",
    "* Peregrine Painter (ppainter@uoregon.edu)"
   ]
  },
  {
   "cell_type": "code",
   "execution_count": null,
   "metadata": {},
   "outputs": [],
   "source": []
  },
  {
   "cell_type": "markdown",
   "metadata": {},
   "source": [
    "# <span style=\"color:seagreen;\">Project 7: &nbsp; Pandas</span>"
   ]
  },
  {
   "cell_type": "markdown",
   "metadata": {},
   "source": [
    "###  <span style=\"color:seagreen\">Data</span>"
   ]
  },
  {
   "cell_type": "markdown",
   "metadata": {},
   "source": [
    "For this project you will create a Pandas data frame by reading the data in `oregon_football_extended.csv`.  \n",
    "\n",
    "**This is not the same file you used for the previous project.**\n",
    "\n",
    "The new file has the same football game data that was in the CSV file for Project 6, but it has two extra fields at the end of each line:\n",
    "* a field named `location` will have an `H` if the game was a home game, `A` if it was an away game, or `N` if it was played at a neutral site\n",
    "* a field named `league_game` will be `Y` if the opponent was a team that is currently in the Pac-12, otherwise it's an `N`\n",
    "\n",
    "To download the file from the Bi 410 server type this command in a Docker shell:\n",
    "```\n",
    "$ download oregon_football_extended.csv\n",
    "```\n",
    "Save the data file in the same folder as this notebook."
   ]
  },
  {
   "cell_type": "markdown",
   "metadata": {},
   "source": [
    "###  <span style=\"color:seagreen\">Instructions</span>"
   ]
  },
  {
   "cell_type": "markdown",
   "metadata": {},
   "source": [
    "Exercise 6.4 is similar to exercises on other projects:  you need to write the definition of a function in a code cell, and then use other code cells to call your function to test it.\n",
    "\n",
    "For the other exercises there will be a code cell that says \"YOUR CODE HERE\".  Use that cell for your solution to a project, _e.g._ to write the Python code that creates a Pandas frame or draws a figure.\n",
    "\n",
    "Some exercises also include a code cell with a comment that says \"We will execute this code cell to check your solution\".  The cells are read-only: you can execute these cells to test your work, but you won't be able to modify them.\n",
    "\n",
    "**IMPORTANT:** Do not copy, delete, or move the solution cells or the test cells.\n",
    "\n",
    "You can add additional cells for your own \"sandbox\" or tests, but do not copy and paste an existing test or project cell."
   ]
  },
  {
   "cell_type": "markdown",
   "metadata": {},
   "source": [
    "###  <span style=\"color:seagreen\">Imports</span> "
   ]
  },
  {
   "cell_type": "markdown",
   "metadata": {},
   "source": [
    "Execute these code cells to import Pandas, Numpy, and PyPlot and to tell Matplotlib to display graphics in the notebook."
   ]
  },
  {
   "cell_type": "code",
   "execution_count": 1,
   "metadata": {
    "deletable": false,
    "editable": false,
    "nbgrader": {
     "cell_type": "code",
     "checksum": "0c3ccf37af5e9d01b2a2387da9724509",
     "grade": false,
     "grade_id": "cell-f678a894002b20e0",
     "locked": true,
     "schema_version": 3,
     "solution": false,
     "task": false
    }
   },
   "outputs": [],
   "source": [
    "import pandas as pd\n",
    "import numpy as np\n",
    "import matplotlib.pyplot as plt"
   ]
  },
  {
   "cell_type": "code",
   "execution_count": 2,
   "metadata": {
    "deletable": false,
    "editable": false,
    "nbgrader": {
     "cell_type": "code",
     "checksum": "314dca4598b63cb61bed77eb3f3d9aee",
     "grade": false,
     "grade_id": "pmt",
     "locked": true,
     "schema_version": 3,
     "solution": false,
     "task": false
    }
   },
   "outputs": [],
   "source": [
    "%matplotlib inline"
   ]
  },
  {
   "cell_type": "markdown",
   "metadata": {},
   "source": [
    "###  <span style=\"color:seagreen\">Exercise 6.1: Create a DataFrame</span> "
   ]
  },
  {
   "cell_type": "markdown",
   "metadata": {},
   "source": [
    "Use the code cell below to create a DataFrame object by reading the data from `oregon_football_extended.csv`.  Save the frame using the name `fb`."
   ]
  },
  {
   "cell_type": "code",
   "execution_count": 3,
   "metadata": {},
   "outputs": [],
   "source": [
    "fb = pd.read_csv('oregon_football_extended.csv')"
   ]
  },
  {
   "cell_type": "code",
   "execution_count": 4,
   "metadata": {},
   "outputs": [
    {
     "data": {
      "text/plain": [
       "pandas.core.frame.DataFrame"
      ]
     },
     "execution_count": 4,
     "metadata": {},
     "output_type": "execute_result"
    }
   ],
   "source": [
    "type(fb)"
   ]
  },
  {
   "cell_type": "code",
   "execution_count": null,
   "metadata": {
    "deletable": false,
    "nbgrader": {
     "cell_type": "code",
     "checksum": "b376bd2d894af28a6c085501b119f785",
     "grade": true,
     "grade_id": "read_updated_scores",
     "locked": false,
     "points": 5,
     "schema_version": 3,
     "solution": true
    }
   },
   "outputs": [],
   "source": []
  },
  {
   "cell_type": "code",
   "execution_count": 5,
   "metadata": {
    "deletable": false,
    "editable": false,
    "nbgrader": {
     "cell_type": "code",
     "checksum": "f2d1255759af2761c7f112989f8e1ae7",
     "grade": false,
     "grade_id": "cell-062f22f91692ebc0",
     "locked": true,
     "schema_version": 3,
     "solution": false,
     "task": false
    }
   },
   "outputs": [
    {
     "data": {
      "text/html": [
       "<div>\n",
       "<style scoped>\n",
       "    .dataframe tbody tr th:only-of-type {\n",
       "        vertical-align: middle;\n",
       "    }\n",
       "\n",
       "    .dataframe tbody tr th {\n",
       "        vertical-align: top;\n",
       "    }\n",
       "\n",
       "    .dataframe thead th {\n",
       "        text-align: right;\n",
       "    }\n",
       "</style>\n",
       "<table border=\"1\" class=\"dataframe\">\n",
       "  <thead>\n",
       "    <tr style=\"text-align: right;\">\n",
       "      <th></th>\n",
       "      <th>date</th>\n",
       "      <th>season</th>\n",
       "      <th>opponent</th>\n",
       "      <th>points_scored</th>\n",
       "      <th>points_allowed</th>\n",
       "      <th>location</th>\n",
       "      <th>league_game</th>\n",
       "    </tr>\n",
       "  </thead>\n",
       "  <tbody>\n",
       "    <tr>\n",
       "      <td>0</td>\n",
       "      <td>1916-10-07</td>\n",
       "      <td>1916</td>\n",
       "      <td>Willamette</td>\n",
       "      <td>97</td>\n",
       "      <td>0</td>\n",
       "      <td>H</td>\n",
       "      <td>N</td>\n",
       "    </tr>\n",
       "    <tr>\n",
       "      <td>1</td>\n",
       "      <td>1916-10-14</td>\n",
       "      <td>1916</td>\n",
       "      <td>Multnomah A.C.</td>\n",
       "      <td>28</td>\n",
       "      <td>0</td>\n",
       "      <td>H</td>\n",
       "      <td>N</td>\n",
       "    </tr>\n",
       "    <tr>\n",
       "      <td>2</td>\n",
       "      <td>1916-10-21</td>\n",
       "      <td>1916</td>\n",
       "      <td>California</td>\n",
       "      <td>39</td>\n",
       "      <td>14</td>\n",
       "      <td>A</td>\n",
       "      <td>Y</td>\n",
       "    </tr>\n",
       "    <tr>\n",
       "      <td>3</td>\n",
       "      <td>1916-11-04</td>\n",
       "      <td>1916</td>\n",
       "      <td>Washington</td>\n",
       "      <td>0</td>\n",
       "      <td>0</td>\n",
       "      <td>H</td>\n",
       "      <td>Y</td>\n",
       "    </tr>\n",
       "    <tr>\n",
       "      <td>4</td>\n",
       "      <td>1916-11-11</td>\n",
       "      <td>1916</td>\n",
       "      <td>Washington State</td>\n",
       "      <td>12</td>\n",
       "      <td>3</td>\n",
       "      <td>H</td>\n",
       "      <td>Y</td>\n",
       "    </tr>\n",
       "  </tbody>\n",
       "</table>\n",
       "</div>"
      ],
      "text/plain": [
       "         date  season          opponent  points_scored  points_allowed  \\\n",
       "0  1916-10-07    1916        Willamette             97               0   \n",
       "1  1916-10-14    1916    Multnomah A.C.             28               0   \n",
       "2  1916-10-21    1916        California             39              14   \n",
       "3  1916-11-04    1916        Washington              0               0   \n",
       "4  1916-11-11    1916  Washington State             12               3   \n",
       "\n",
       "  location league_game  \n",
       "0        H           N  \n",
       "1        H           N  \n",
       "2        A           Y  \n",
       "3        H           Y  \n",
       "4        H           Y  "
      ]
     },
     "execution_count": 5,
     "metadata": {},
     "output_type": "execute_result"
    }
   ],
   "source": [
    "# We will execute this code cell to check your solution.\n",
    "\n",
    "fb.head(5)"
   ]
  },
  {
   "cell_type": "code",
   "execution_count": 6,
   "metadata": {
    "deletable": false,
    "editable": false,
    "nbgrader": {
     "cell_type": "code",
     "checksum": "e63b5fc40d6ddf68626d444cbe1798ae",
     "grade": false,
     "grade_id": "cell-4a4abc7e885b0e18",
     "locked": true,
     "schema_version": 3,
     "solution": false,
     "task": false
    }
   },
   "outputs": [
    {
     "data": {
      "text/html": [
       "<div>\n",
       "<style scoped>\n",
       "    .dataframe tbody tr th:only-of-type {\n",
       "        vertical-align: middle;\n",
       "    }\n",
       "\n",
       "    .dataframe tbody tr th {\n",
       "        vertical-align: top;\n",
       "    }\n",
       "\n",
       "    .dataframe thead th {\n",
       "        text-align: right;\n",
       "    }\n",
       "</style>\n",
       "<table border=\"1\" class=\"dataframe\">\n",
       "  <thead>\n",
       "    <tr style=\"text-align: right;\">\n",
       "      <th></th>\n",
       "      <th>date</th>\n",
       "      <th>season</th>\n",
       "      <th>opponent</th>\n",
       "      <th>points_scored</th>\n",
       "      <th>points_allowed</th>\n",
       "      <th>location</th>\n",
       "      <th>league_game</th>\n",
       "    </tr>\n",
       "  </thead>\n",
       "  <tbody>\n",
       "    <tr>\n",
       "      <td>1063</td>\n",
       "      <td>2018-11-03</td>\n",
       "      <td>2018</td>\n",
       "      <td>UCLA</td>\n",
       "      <td>42</td>\n",
       "      <td>21</td>\n",
       "      <td>H</td>\n",
       "      <td>Y</td>\n",
       "    </tr>\n",
       "    <tr>\n",
       "      <td>1064</td>\n",
       "      <td>2018-11-10</td>\n",
       "      <td>2018</td>\n",
       "      <td>Utah</td>\n",
       "      <td>25</td>\n",
       "      <td>32</td>\n",
       "      <td>A</td>\n",
       "      <td>Y</td>\n",
       "    </tr>\n",
       "    <tr>\n",
       "      <td>1065</td>\n",
       "      <td>2018-11-17</td>\n",
       "      <td>2018</td>\n",
       "      <td>Arizona State</td>\n",
       "      <td>31</td>\n",
       "      <td>29</td>\n",
       "      <td>H</td>\n",
       "      <td>Y</td>\n",
       "    </tr>\n",
       "    <tr>\n",
       "      <td>1066</td>\n",
       "      <td>2018-11-23</td>\n",
       "      <td>2018</td>\n",
       "      <td>Oregon State</td>\n",
       "      <td>55</td>\n",
       "      <td>15</td>\n",
       "      <td>A</td>\n",
       "      <td>Y</td>\n",
       "    </tr>\n",
       "    <tr>\n",
       "      <td>1067</td>\n",
       "      <td>2018-12-31</td>\n",
       "      <td>2018</td>\n",
       "      <td>Michigan State</td>\n",
       "      <td>7</td>\n",
       "      <td>6</td>\n",
       "      <td>N</td>\n",
       "      <td>N</td>\n",
       "    </tr>\n",
       "  </tbody>\n",
       "</table>\n",
       "</div>"
      ],
      "text/plain": [
       "            date  season        opponent  points_scored  points_allowed  \\\n",
       "1063  2018-11-03    2018            UCLA             42              21   \n",
       "1064  2018-11-10    2018            Utah             25              32   \n",
       "1065  2018-11-17    2018   Arizona State             31              29   \n",
       "1066  2018-11-23    2018    Oregon State             55              15   \n",
       "1067  2018-12-31    2018  Michigan State              7               6   \n",
       "\n",
       "     location league_game  \n",
       "1063        H           Y  \n",
       "1064        A           Y  \n",
       "1065        H           Y  \n",
       "1066        A           Y  \n",
       "1067        N           N  "
      ]
     },
     "execution_count": 6,
     "metadata": {},
     "output_type": "execute_result"
    }
   ],
   "source": [
    "# We will execute this code cell to check your solution.\n",
    "\n",
    "fb.tail(5)"
   ]
  },
  {
   "cell_type": "code",
   "execution_count": 7,
   "metadata": {},
   "outputs": [
    {
     "data": {
      "text/plain": [
       "Index(['date', 'season', 'opponent', 'points_scored', 'points_allowed',\n",
       "       'location', 'league_game'],\n",
       "      dtype='object')"
      ]
     },
     "execution_count": 7,
     "metadata": {},
     "output_type": "execute_result"
    }
   ],
   "source": [
    "fb.columns"
   ]
  },
  {
   "cell_type": "code",
   "execution_count": 8,
   "metadata": {},
   "outputs": [
    {
     "data": {
      "text/plain": [
       "RangeIndex(start=0, stop=1068, step=1)"
      ]
     },
     "execution_count": 8,
     "metadata": {},
     "output_type": "execute_result"
    }
   ],
   "source": [
    "fb.index"
   ]
  },
  {
   "cell_type": "markdown",
   "metadata": {},
   "source": [
    "###  <span style=\"color:seagreen\">Exercise 6.2: Total Number of Games</span> "
   ]
  },
  {
   "cell_type": "markdown",
   "metadata": {},
   "source": [
    "Write a Python statement in this code cell that will show the total number of games played."
   ]
  },
  {
   "cell_type": "code",
   "execution_count": 9,
   "metadata": {
    "deletable": false,
    "nbgrader": {
     "cell_type": "code",
     "checksum": "46267aab9b5613866972c7b7f26aa518",
     "grade": true,
     "grade_id": "number_of_games",
     "locked": false,
     "points": 5,
     "schema_version": 3,
     "solution": true,
     "task": false
    }
   },
   "outputs": [
    {
     "data": {
      "text/plain": [
       "1068"
      ]
     },
     "execution_count": 9,
     "metadata": {},
     "output_type": "execute_result"
    }
   ],
   "source": [
    "len(fb)"
   ]
  },
  {
   "cell_type": "markdown",
   "metadata": {},
   "source": [
    "###  <span style=\"color:seagreen\">Exercise 6.3: Point Differential</span> "
   ]
  },
  {
   "cell_type": "markdown",
   "metadata": {},
   "source": [
    "Fill in the code cell below with a statement that will add a new column named `difference` to the frame, where the values in that column are the difference between points scored and points allowed.  Here is what the first few rows in the new frame should look like:\n",
    "```\n",
    "         date  season          opponent  points_scored  points_allowed  location  league_game  difference\n",
    "0  1916-10-07    1916        Willamette             97               0         H            N          97\n",
    "1  1916-10-14    1916    Multnomah A.C.             28               0         H            N          28\n",
    "2  1916-10-21    1916        California             39              14         A            Y          25\n",
    "3  1916-11-04    1916        Washington              0               0         H            Y           0\n",
    "4  1916-11-11    1916  Washington State             12               3         H            Y           9\n",
    "\n",
    "```"
   ]
  },
  {
   "cell_type": "code",
   "execution_count": 10,
   "metadata": {},
   "outputs": [
    {
     "data": {
      "text/plain": [
       "2"
      ]
     },
     "execution_count": 10,
     "metadata": {},
     "output_type": "execute_result"
    }
   ],
   "source": [
    "np.subtract(5,3)"
   ]
  },
  {
   "cell_type": "code",
   "execution_count": 11,
   "metadata": {},
   "outputs": [],
   "source": [
    "difference = np.subtract(fb['points_scored'],fb['points_allowed'])\n",
    "\n",
    "fb[\"difference\"] = difference"
   ]
  },
  {
   "cell_type": "code",
   "execution_count": 12,
   "metadata": {
    "deletable": false,
    "nbgrader": {
     "cell_type": "code",
     "checksum": "8a4263d5c1c256b3c7f9df718a549af8",
     "grade": true,
     "grade_id": "add_difference",
     "locked": false,
     "points": 5,
     "schema_version": 3,
     "solution": true,
     "task": false
    }
   },
   "outputs": [
    {
     "data": {
      "text/plain": [
       "0       97\n",
       "1       28\n",
       "2       25\n",
       "3        0\n",
       "4        9\n",
       "        ..\n",
       "1063    21\n",
       "1064    -7\n",
       "1065     2\n",
       "1066    40\n",
       "1067     1\n",
       "Length: 1068, dtype: int64"
      ]
     },
     "execution_count": 12,
     "metadata": {},
     "output_type": "execute_result"
    }
   ],
   "source": [
    "difference"
   ]
  },
  {
   "cell_type": "code",
   "execution_count": 13,
   "metadata": {
    "deletable": false,
    "editable": false,
    "nbgrader": {
     "cell_type": "code",
     "checksum": "440eba4b3074851d74c1550cab1c9218",
     "grade": false,
     "grade_id": "cell-4843f7bf8e246b81",
     "locked": true,
     "schema_version": 3,
     "solution": false,
     "task": false
    }
   },
   "outputs": [
    {
     "data": {
      "text/html": [
       "<div>\n",
       "<style scoped>\n",
       "    .dataframe tbody tr th:only-of-type {\n",
       "        vertical-align: middle;\n",
       "    }\n",
       "\n",
       "    .dataframe tbody tr th {\n",
       "        vertical-align: top;\n",
       "    }\n",
       "\n",
       "    .dataframe thead th {\n",
       "        text-align: right;\n",
       "    }\n",
       "</style>\n",
       "<table border=\"1\" class=\"dataframe\">\n",
       "  <thead>\n",
       "    <tr style=\"text-align: right;\">\n",
       "      <th></th>\n",
       "      <th>date</th>\n",
       "      <th>season</th>\n",
       "      <th>opponent</th>\n",
       "      <th>points_scored</th>\n",
       "      <th>points_allowed</th>\n",
       "      <th>location</th>\n",
       "      <th>league_game</th>\n",
       "      <th>difference</th>\n",
       "    </tr>\n",
       "  </thead>\n",
       "  <tbody>\n",
       "    <tr>\n",
       "      <td>0</td>\n",
       "      <td>1916-10-07</td>\n",
       "      <td>1916</td>\n",
       "      <td>Willamette</td>\n",
       "      <td>97</td>\n",
       "      <td>0</td>\n",
       "      <td>H</td>\n",
       "      <td>N</td>\n",
       "      <td>97</td>\n",
       "    </tr>\n",
       "    <tr>\n",
       "      <td>1</td>\n",
       "      <td>1916-10-14</td>\n",
       "      <td>1916</td>\n",
       "      <td>Multnomah A.C.</td>\n",
       "      <td>28</td>\n",
       "      <td>0</td>\n",
       "      <td>H</td>\n",
       "      <td>N</td>\n",
       "      <td>28</td>\n",
       "    </tr>\n",
       "    <tr>\n",
       "      <td>2</td>\n",
       "      <td>1916-10-21</td>\n",
       "      <td>1916</td>\n",
       "      <td>California</td>\n",
       "      <td>39</td>\n",
       "      <td>14</td>\n",
       "      <td>A</td>\n",
       "      <td>Y</td>\n",
       "      <td>25</td>\n",
       "    </tr>\n",
       "    <tr>\n",
       "      <td>3</td>\n",
       "      <td>1916-11-04</td>\n",
       "      <td>1916</td>\n",
       "      <td>Washington</td>\n",
       "      <td>0</td>\n",
       "      <td>0</td>\n",
       "      <td>H</td>\n",
       "      <td>Y</td>\n",
       "      <td>0</td>\n",
       "    </tr>\n",
       "    <tr>\n",
       "      <td>4</td>\n",
       "      <td>1916-11-11</td>\n",
       "      <td>1916</td>\n",
       "      <td>Washington State</td>\n",
       "      <td>12</td>\n",
       "      <td>3</td>\n",
       "      <td>H</td>\n",
       "      <td>Y</td>\n",
       "      <td>9</td>\n",
       "    </tr>\n",
       "  </tbody>\n",
       "</table>\n",
       "</div>"
      ],
      "text/plain": [
       "         date  season          opponent  points_scored  points_allowed  \\\n",
       "0  1916-10-07    1916        Willamette             97               0   \n",
       "1  1916-10-14    1916    Multnomah A.C.             28               0   \n",
       "2  1916-10-21    1916        California             39              14   \n",
       "3  1916-11-04    1916        Washington              0               0   \n",
       "4  1916-11-11    1916  Washington State             12               3   \n",
       "\n",
       "  location league_game  difference  \n",
       "0        H           N          97  \n",
       "1        H           N          28  \n",
       "2        A           Y          25  \n",
       "3        H           Y           0  \n",
       "4        H           Y           9  "
      ]
     },
     "execution_count": 13,
     "metadata": {},
     "output_type": "execute_result"
    }
   ],
   "source": [
    "# We will execute this code cell to check your solution.\n",
    "\n",
    "fb.head(5)"
   ]
  },
  {
   "cell_type": "code",
   "execution_count": null,
   "metadata": {},
   "outputs": [],
   "source": [
    "fb.tail(10)"
   ]
  },
  {
   "cell_type": "markdown",
   "metadata": {},
   "source": [
    "###  <span style=\"color:seagreen\">Exercise 6.4: Overall Record</span> "
   ]
  },
  {
   "cell_type": "markdown",
   "metadata": {},
   "source": [
    "Fill in the code cell below with the definition of a function that will compute the overall win-loss record for the Ducks. Since ties were allowed in college football until the 1980s you will find several games where the points scored by each team are the same.  The function should return three values: the number of games won, the number lost, and the number of ties.\n",
    "\n",
    "The expected result is:\n",
    "```\n",
    ">>> won_lost_tied(fb)\n",
    "(579, 455, 34)\n",
    "```"
   ]
  },
  {
   "cell_type": "markdown",
   "metadata": {},
   "source": [
    "#### Code "
   ]
  },
  {
   "cell_type": "code",
   "execution_count": null,
   "metadata": {
    "deletable": false,
    "nbgrader": {
     "cell_type": "code",
     "checksum": "c29ca8596d2c57859c12262fc8072dd1",
     "grade": true,
     "grade_id": "won_lost_tied",
     "locked": false,
     "points": 5,
     "schema_version": 3,
     "solution": true,
     "task": false
    }
   },
   "outputs": [],
   "source": [
    "def won_lost_tied(df):\n",
    "    won = 0\n",
    "    lost = 0\n",
    "    tied = 0\n",
    "    \n",
    "    for s in df['difference']:\n",
    "#         print(s)\n",
    "        if s > 0:\n",
    "            won += 1\n",
    "        elif s < 0:\n",
    "            lost += 1\n",
    "        elif s == 0:\n",
    "            tied += 1\n",
    "    return(won, lost, tied)"
   ]
  },
  {
   "cell_type": "code",
   "execution_count": null,
   "metadata": {},
   "outputs": [],
   "source": [
    "won_lost_tied(fb)"
   ]
  },
  {
   "cell_type": "markdown",
   "metadata": {},
   "source": [
    "#### Test "
   ]
  },
  {
   "cell_type": "code",
   "execution_count": null,
   "metadata": {
    "deletable": false,
    "editable": false,
    "nbgrader": {
     "cell_type": "code",
     "checksum": "58d63461f83e9842229a4a273831cc5a",
     "grade": true,
     "grade_id": "cell-09a5b89349bb2892",
     "locked": true,
     "points": 5,
     "schema_version": 3,
     "solution": false,
     "task": false
    }
   },
   "outputs": [],
   "source": [
    "assert won_lost_tied(fb) == (579, 455, 34)"
   ]
  },
  {
   "cell_type": "markdown",
   "metadata": {},
   "source": [
    "###  <span style=\"color:seagreen\">Exercise 6.5: Average Points Scored</span> "
   ]
  },
  {
   "cell_type": "markdown",
   "metadata": {},
   "source": [
    "Make a new frame named `fbs` (for \"football summary\") that has the mean number of points scored and mean number of points allowed in each season.  The new frame should look like this:\n",
    "```\n",
    "        points_scored  points_allowed  \n",
    "season                                           \n",
    "1916        30.500000        2.125000\n",
    "1917        10.428571       10.571429\n",
    "1918        13.500000        5.833333\n",
    "1919        14.714286        5.714286\n",
    "1920         6.166667        6.333333\n",
    "...\n",
    "```"
   ]
  },
  {
   "cell_type": "code",
   "execution_count": 21,
   "metadata": {},
   "outputs": [
    {
     "data": {
      "text/html": [
       "<div>\n",
       "<style scoped>\n",
       "    .dataframe tbody tr th:only-of-type {\n",
       "        vertical-align: middle;\n",
       "    }\n",
       "\n",
       "    .dataframe tbody tr th {\n",
       "        vertical-align: top;\n",
       "    }\n",
       "\n",
       "    .dataframe thead th {\n",
       "        text-align: right;\n",
       "    }\n",
       "</style>\n",
       "<table border=\"1\" class=\"dataframe\">\n",
       "  <thead>\n",
       "    <tr style=\"text-align: right;\">\n",
       "      <th></th>\n",
       "      <th>date</th>\n",
       "      <th>season</th>\n",
       "      <th>opponent</th>\n",
       "      <th>points_scored</th>\n",
       "      <th>points_allowed</th>\n",
       "      <th>location</th>\n",
       "      <th>league_game</th>\n",
       "      <th>difference</th>\n",
       "    </tr>\n",
       "  </thead>\n",
       "  <tbody>\n",
       "    <tr>\n",
       "      <td>0</td>\n",
       "      <td>1916-10-07</td>\n",
       "      <td>1916</td>\n",
       "      <td>Willamette</td>\n",
       "      <td>97</td>\n",
       "      <td>0</td>\n",
       "      <td>H</td>\n",
       "      <td>N</td>\n",
       "      <td>97</td>\n",
       "    </tr>\n",
       "    <tr>\n",
       "      <td>1</td>\n",
       "      <td>1916-10-14</td>\n",
       "      <td>1916</td>\n",
       "      <td>Multnomah A.C.</td>\n",
       "      <td>28</td>\n",
       "      <td>0</td>\n",
       "      <td>H</td>\n",
       "      <td>N</td>\n",
       "      <td>28</td>\n",
       "    </tr>\n",
       "    <tr>\n",
       "      <td>2</td>\n",
       "      <td>1916-10-21</td>\n",
       "      <td>1916</td>\n",
       "      <td>California</td>\n",
       "      <td>39</td>\n",
       "      <td>14</td>\n",
       "      <td>A</td>\n",
       "      <td>Y</td>\n",
       "      <td>25</td>\n",
       "    </tr>\n",
       "    <tr>\n",
       "      <td>3</td>\n",
       "      <td>1916-11-04</td>\n",
       "      <td>1916</td>\n",
       "      <td>Washington</td>\n",
       "      <td>0</td>\n",
       "      <td>0</td>\n",
       "      <td>H</td>\n",
       "      <td>Y</td>\n",
       "      <td>0</td>\n",
       "    </tr>\n",
       "    <tr>\n",
       "      <td>4</td>\n",
       "      <td>1916-11-11</td>\n",
       "      <td>1916</td>\n",
       "      <td>Washington State</td>\n",
       "      <td>12</td>\n",
       "      <td>3</td>\n",
       "      <td>H</td>\n",
       "      <td>Y</td>\n",
       "      <td>9</td>\n",
       "    </tr>\n",
       "    <tr>\n",
       "      <td>...</td>\n",
       "      <td>...</td>\n",
       "      <td>...</td>\n",
       "      <td>...</td>\n",
       "      <td>...</td>\n",
       "      <td>...</td>\n",
       "      <td>...</td>\n",
       "      <td>...</td>\n",
       "      <td>...</td>\n",
       "    </tr>\n",
       "    <tr>\n",
       "      <td>1063</td>\n",
       "      <td>2018-11-03</td>\n",
       "      <td>2018</td>\n",
       "      <td>UCLA</td>\n",
       "      <td>42</td>\n",
       "      <td>21</td>\n",
       "      <td>H</td>\n",
       "      <td>Y</td>\n",
       "      <td>21</td>\n",
       "    </tr>\n",
       "    <tr>\n",
       "      <td>1064</td>\n",
       "      <td>2018-11-10</td>\n",
       "      <td>2018</td>\n",
       "      <td>Utah</td>\n",
       "      <td>25</td>\n",
       "      <td>32</td>\n",
       "      <td>A</td>\n",
       "      <td>Y</td>\n",
       "      <td>-7</td>\n",
       "    </tr>\n",
       "    <tr>\n",
       "      <td>1065</td>\n",
       "      <td>2018-11-17</td>\n",
       "      <td>2018</td>\n",
       "      <td>Arizona State</td>\n",
       "      <td>31</td>\n",
       "      <td>29</td>\n",
       "      <td>H</td>\n",
       "      <td>Y</td>\n",
       "      <td>2</td>\n",
       "    </tr>\n",
       "    <tr>\n",
       "      <td>1066</td>\n",
       "      <td>2018-11-23</td>\n",
       "      <td>2018</td>\n",
       "      <td>Oregon State</td>\n",
       "      <td>55</td>\n",
       "      <td>15</td>\n",
       "      <td>A</td>\n",
       "      <td>Y</td>\n",
       "      <td>40</td>\n",
       "    </tr>\n",
       "    <tr>\n",
       "      <td>1067</td>\n",
       "      <td>2018-12-31</td>\n",
       "      <td>2018</td>\n",
       "      <td>Michigan State</td>\n",
       "      <td>7</td>\n",
       "      <td>6</td>\n",
       "      <td>N</td>\n",
       "      <td>N</td>\n",
       "      <td>1</td>\n",
       "    </tr>\n",
       "  </tbody>\n",
       "</table>\n",
       "<p>1068 rows × 8 columns</p>\n",
       "</div>"
      ],
      "text/plain": [
       "            date  season          opponent  points_scored  points_allowed  \\\n",
       "0     1916-10-07    1916        Willamette             97               0   \n",
       "1     1916-10-14    1916    Multnomah A.C.             28               0   \n",
       "2     1916-10-21    1916        California             39              14   \n",
       "3     1916-11-04    1916        Washington              0               0   \n",
       "4     1916-11-11    1916  Washington State             12               3   \n",
       "...          ...     ...               ...            ...             ...   \n",
       "1063  2018-11-03    2018              UCLA             42              21   \n",
       "1064  2018-11-10    2018              Utah             25              32   \n",
       "1065  2018-11-17    2018     Arizona State             31              29   \n",
       "1066  2018-11-23    2018      Oregon State             55              15   \n",
       "1067  2018-12-31    2018    Michigan State              7               6   \n",
       "\n",
       "     location league_game  difference  \n",
       "0           H           N          97  \n",
       "1           H           N          28  \n",
       "2           A           Y          25  \n",
       "3           H           Y           0  \n",
       "4           H           Y           9  \n",
       "...       ...         ...         ...  \n",
       "1063        H           Y          21  \n",
       "1064        A           Y          -7  \n",
       "1065        H           Y           2  \n",
       "1066        A           Y          40  \n",
       "1067        N           N           1  \n",
       "\n",
       "[1068 rows x 8 columns]"
      ]
     },
     "execution_count": 21,
     "metadata": {},
     "output_type": "execute_result"
    }
   ],
   "source": [
    "fb"
   ]
  },
  {
   "cell_type": "code",
   "execution_count": 22,
   "metadata": {
    "deletable": false,
    "nbgrader": {
     "cell_type": "code",
     "checksum": "9943928e4bad6d8bbecdd81cfeca71ed",
     "grade": true,
     "grade_id": "group_by",
     "locked": false,
     "points": 5,
     "schema_version": 3,
     "solution": true,
     "task": false
    }
   },
   "outputs": [],
   "source": [
    "fbs = pd.DataFrame(\n",
    "    fb.groupby('season').mean().drop(columns=['difference']))"
   ]
  },
  {
   "cell_type": "code",
   "execution_count": 23,
   "metadata": {
    "deletable": false,
    "editable": false,
    "nbgrader": {
     "cell_type": "code",
     "checksum": "21ac980f19dbd8ee3b700dd7c2e22c52",
     "grade": false,
     "grade_id": "cell-463464b44060324b",
     "locked": true,
     "schema_version": 3,
     "solution": false,
     "task": false
    }
   },
   "outputs": [
    {
     "data": {
      "text/html": [
       "<div>\n",
       "<style scoped>\n",
       "    .dataframe tbody tr th:only-of-type {\n",
       "        vertical-align: middle;\n",
       "    }\n",
       "\n",
       "    .dataframe tbody tr th {\n",
       "        vertical-align: top;\n",
       "    }\n",
       "\n",
       "    .dataframe thead th {\n",
       "        text-align: right;\n",
       "    }\n",
       "</style>\n",
       "<table border=\"1\" class=\"dataframe\">\n",
       "  <thead>\n",
       "    <tr style=\"text-align: right;\">\n",
       "      <th></th>\n",
       "      <th>points_scored</th>\n",
       "      <th>points_allowed</th>\n",
       "    </tr>\n",
       "    <tr>\n",
       "      <th>season</th>\n",
       "      <th></th>\n",
       "      <th></th>\n",
       "    </tr>\n",
       "  </thead>\n",
       "  <tbody>\n",
       "    <tr>\n",
       "      <td>1916</td>\n",
       "      <td>30.500000</td>\n",
       "      <td>2.125000</td>\n",
       "    </tr>\n",
       "    <tr>\n",
       "      <td>1917</td>\n",
       "      <td>10.428571</td>\n",
       "      <td>10.571429</td>\n",
       "    </tr>\n",
       "    <tr>\n",
       "      <td>1918</td>\n",
       "      <td>13.500000</td>\n",
       "      <td>5.833333</td>\n",
       "    </tr>\n",
       "    <tr>\n",
       "      <td>1919</td>\n",
       "      <td>14.714286</td>\n",
       "      <td>5.714286</td>\n",
       "    </tr>\n",
       "    <tr>\n",
       "      <td>1920</td>\n",
       "      <td>6.166667</td>\n",
       "      <td>6.333333</td>\n",
       "    </tr>\n",
       "  </tbody>\n",
       "</table>\n",
       "</div>"
      ],
      "text/plain": [
       "        points_scored  points_allowed\n",
       "season                               \n",
       "1916        30.500000        2.125000\n",
       "1917        10.428571       10.571429\n",
       "1918        13.500000        5.833333\n",
       "1919        14.714286        5.714286\n",
       "1920         6.166667        6.333333"
      ]
     },
     "execution_count": 23,
     "metadata": {},
     "output_type": "execute_result"
    }
   ],
   "source": [
    "# We will execute this code cell to check your solution.\n",
    "\n",
    "fbs.head(5)"
   ]
  },
  {
   "cell_type": "markdown",
   "metadata": {},
   "source": [
    "###  <span style=\"color:seagreen\">Exercise 6.6: Scatter Plot</span>"
   ]
  },
  {
   "cell_type": "markdown",
   "metadata": {},
   "source": [
    "Create a scatter plot comparing the number of points allowed ($x$-axis) vs. number of points scored ($y$-axis) for every game. Your plot should look something like this:\n",
    "\n",
    "<img src=\"https://pages.uoregon.edu/conery/Bi410/scored_vs_allowed.png\">\n",
    "\n",
    "**Optional:** The figure above uses equal size $x$ and $y$ axes, which are not required, but do provide a more accurate visualization.  If you want your figure to have the same shape save the result of the call to the `plot` method (the method returns a kind of object called an Axes) call a method named `set_aspect` (you can read about it in the `pyplot` documentation).\n",
    "\n",
    "**Optional:** The figure above also colors each dot according to the point difference, but your plot does not need to include dot colors (and it does not need the color bar on the right side)."
   ]
  },
  {
   "cell_type": "code",
   "execution_count": 24,
   "metadata": {
    "deletable": false,
    "nbgrader": {
     "cell_type": "code",
     "checksum": "e63dcfe0308bb0adc1a90142ee21f1c7",
     "grade": true,
     "grade_id": "scatter_plot",
     "locked": false,
     "points": 5,
     "schema_version": 3,
     "solution": true,
     "task": false
    }
   },
   "outputs": [
    {
     "data": {
      "text/plain": [
       "<matplotlib.axes._subplots.AxesSubplot at 0x7f5221cbe2b0>"
      ]
     },
     "execution_count": 24,
     "metadata": {},
     "output_type": "execute_result"
    },
    {
     "data": {
      "image/png": "[encoded data removed]",
      "text/plain": [
       "<Figure size 432x288 with 1 Axes>"
      ]
     },
     "metadata": {
      "needs_background": "light"
     },
     "output_type": "display_data"
    }
   ],
   "source": [
    "fb.plot.scatter(x='points_allowed', y='points_scored', #c='difference', colormap='viridis'\n",
    "               )"
   ]
  },
  {
   "cell_type": "markdown",
   "metadata": {},
   "source": [
    "###  <span style=\"color:seagreen\">Exercise 6.7: Scoring Trends</span>"
   ]
  },
  {
   "cell_type": "markdown",
   "metadata": {},
   "source": [
    "Create a plot that shows the total points scored in each season, with one line showing points scored by Oregon, and another line showing total points scored by the opponents (this is the same plot you made in the previous project, but now you'll be getting the data from a Pandas frame).\n",
    "\n",
    "Your plot should look something like this, including the title and legend:\n",
    "\n",
    "<img src=\"https://pages.uoregon.edu/conery/Bi410/football_trends_pandas.png\">"
   ]
  },
  {
   "cell_type": "code",
   "execution_count": 25,
   "metadata": {
    "deletable": false,
    "nbgrader": {
     "cell_type": "code",
     "checksum": "cdf667fe70568066917eb7c39a458222",
     "grade": true,
     "grade_id": "repeat",
     "locked": false,
     "points": 10,
     "schema_version": 3,
     "solution": true
    }
   },
   "outputs": [
    {
     "data": {
      "text/plain": [
       "Text(0, 0.5, 'points')"
      ]
     },
     "execution_count": 25,
     "metadata": {},
     "output_type": "execute_result"
    },
    {
     "data": {
      "image/png": "[encoded data removed]",
      "text/plain": [
       "<Figure size 432x288 with 1 Axes>"
      ]
     },
     "metadata": {
      "needs_background": "light"
     },
     "output_type": "display_data"
    }
   ],
   "source": [
    "fbs.plot(color='g''r')\n",
    "plt.title('Scoring Trends, 1916-2018')\n",
    "plt.xlabel('season')\n",
    "plt.ylabel('points')"
   ]
  },
  {
   "cell_type": "markdown",
   "metadata": {},
   "source": [
    "###  <span style=\"color:seagreen\">Exercise 6.8:  </span>"
   ]
  },
  {
   "cell_type": "markdown",
   "metadata": {},
   "source": [
    "Create a new frame named `pac12` that shows the number of games played againt teams in the Pac-12, with separate columns for home, away, and neutral site games.\n",
    "The final result should look something like this:\n",
    "```\n",
    "location                A     H    N\n",
    "opponent                            \n",
    "Arizona              22.0  20.0  1.0\n",
    "Arizona State        18.0  19.0  NaN\n",
    "California           42.0  34.0  1.0\n",
    "Colorado             10.0   8.0  3.0\n",
    "...\n",
    "Washington State     45.0  43.0  2.0\n",
    "```\n",
    "\n",
    "**Optional:** to make a nicer looking table, figure out how to tell the function to use a 0 instead of a NaN for missing values (_e.g._ UO has never played ASU\n",
    "at a neutral field so there's a NaN in row 2, column 3).  That will also fill the table with integers, so the result will be\n",
    "```\n",
    "location              A   H  N\n",
    "opponent                      \n",
    "Arizona              22  20  1\n",
    "Arizona State        18  19  0\n",
    "California           42  34  1\n",
    "Colorado             10   8  3\n",
    "...\n",
    "Washington State     45  43  2\n",
    "```"
   ]
  },
  {
   "cell_type": "code",
   "execution_count": 26,
   "metadata": {
    "deletable": false,
    "nbgrader": {
     "cell_type": "code",
     "checksum": "8ec083b75e30859ad485e7a6985eb5fb",
     "grade": true,
     "grade_id": "pac12total",
     "locked": false,
     "points": 5,
     "schema_version": 3,
     "solution": true,
     "task": false
    }
   },
   "outputs": [],
   "source": [
    "pac12_fb = fb[fb['league_game'] == 'Y']\n",
    "pac12 = pd.pivot_table(pac12_fb, index='opponent', columns='location', values='date', aggfunc=np.size)\n",
    "pac12.fillna(0, inplace=True)\n"
   ]
  },
  {
   "cell_type": "code",
   "execution_count": 27,
   "metadata": {
    "deletable": false,
    "editable": false,
    "nbgrader": {
     "cell_type": "code",
     "checksum": "1c366c641923f2b08b2c397ea300fe82",
     "grade": false,
     "grade_id": "cell-ae5d16e98ab28845",
     "locked": true,
     "schema_version": 3,
     "solution": false,
     "task": false
    }
   },
   "outputs": [
    {
     "data": {
      "text/html": [
       "<div>\n",
       "<style scoped>\n",
       "    .dataframe tbody tr th:only-of-type {\n",
       "        vertical-align: middle;\n",
       "    }\n",
       "\n",
       "    .dataframe tbody tr th {\n",
       "        vertical-align: top;\n",
       "    }\n",
       "\n",
       "    .dataframe thead th {\n",
       "        text-align: right;\n",
       "    }\n",
       "</style>\n",
       "<table border=\"1\" class=\"dataframe\">\n",
       "  <thead>\n",
       "    <tr style=\"text-align: right;\">\n",
       "      <th>location</th>\n",
       "      <th>A</th>\n",
       "      <th>H</th>\n",
       "      <th>N</th>\n",
       "    </tr>\n",
       "    <tr>\n",
       "      <th>opponent</th>\n",
       "      <th></th>\n",
       "      <th></th>\n",
       "      <th></th>\n",
       "    </tr>\n",
       "  </thead>\n",
       "  <tbody>\n",
       "    <tr>\n",
       "      <td>Arizona</td>\n",
       "      <td>22.0</td>\n",
       "      <td>20.0</td>\n",
       "      <td>1.0</td>\n",
       "    </tr>\n",
       "    <tr>\n",
       "      <td>Arizona State</td>\n",
       "      <td>18.0</td>\n",
       "      <td>19.0</td>\n",
       "      <td>0.0</td>\n",
       "    </tr>\n",
       "    <tr>\n",
       "      <td>California</td>\n",
       "      <td>42.0</td>\n",
       "      <td>34.0</td>\n",
       "      <td>1.0</td>\n",
       "    </tr>\n",
       "    <tr>\n",
       "      <td>Colorado</td>\n",
       "      <td>10.0</td>\n",
       "      <td>8.0</td>\n",
       "      <td>3.0</td>\n",
       "    </tr>\n",
       "    <tr>\n",
       "      <td>Oregon State</td>\n",
       "      <td>48.0</td>\n",
       "      <td>54.0</td>\n",
       "      <td>0.0</td>\n",
       "    </tr>\n",
       "    <tr>\n",
       "      <td>Southern California</td>\n",
       "      <td>32.0</td>\n",
       "      <td>26.0</td>\n",
       "      <td>2.0</td>\n",
       "    </tr>\n",
       "    <tr>\n",
       "      <td>Stanford</td>\n",
       "      <td>42.0</td>\n",
       "      <td>37.0</td>\n",
       "      <td>0.0</td>\n",
       "    </tr>\n",
       "    <tr>\n",
       "      <td>UCLA</td>\n",
       "      <td>38.0</td>\n",
       "      <td>30.0</td>\n",
       "      <td>1.0</td>\n",
       "    </tr>\n",
       "    <tr>\n",
       "      <td>Utah</td>\n",
       "      <td>15.0</td>\n",
       "      <td>17.0</td>\n",
       "      <td>0.0</td>\n",
       "    </tr>\n",
       "    <tr>\n",
       "      <td>Washington</td>\n",
       "      <td>48.0</td>\n",
       "      <td>51.0</td>\n",
       "      <td>0.0</td>\n",
       "    </tr>\n",
       "    <tr>\n",
       "      <td>Washington State</td>\n",
       "      <td>45.0</td>\n",
       "      <td>43.0</td>\n",
       "      <td>2.0</td>\n",
       "    </tr>\n",
       "  </tbody>\n",
       "</table>\n",
       "</div>"
      ],
      "text/plain": [
       "location                A     H    N\n",
       "opponent                            \n",
       "Arizona              22.0  20.0  1.0\n",
       "Arizona State        18.0  19.0  0.0\n",
       "California           42.0  34.0  1.0\n",
       "Colorado             10.0   8.0  3.0\n",
       "Oregon State         48.0  54.0  0.0\n",
       "Southern California  32.0  26.0  2.0\n",
       "Stanford             42.0  37.0  0.0\n",
       "UCLA                 38.0  30.0  1.0\n",
       "Utah                 15.0  17.0  0.0\n",
       "Washington           48.0  51.0  0.0\n",
       "Washington State     45.0  43.0  2.0"
      ]
     },
     "execution_count": 27,
     "metadata": {},
     "output_type": "execute_result"
    }
   ],
   "source": [
    "# We will execute this code cell to check your solution.\n",
    "\n",
    "pac12"
   ]
  }
 ],
 "metadata": {
  "kernel_info": {
   "name": "python3"
  },
  "kernelspec": {
   "display_name": "Python 3",
   "language": "python",
   "name": "python3"
  },
  "language_info": {
   "codemirror_mode": {
    "name": "ipython",
    "version": 3
   },
   "file_extension": ".py",
   "mimetype": "text/x-python",
   "name": "python",
   "nbconvert_exporter": "python",
   "pygments_lexer": "ipython3",
   "version": "3.7.3"
  },
  "nteract": {
   "version": "0.15.0"
  },
  "varInspector": {
   "cols": {
    "lenName": 16,
    "lenType": 16,
    "lenVar": 40
   },
   "kernels_config": {
    "python": {
     "delete_cmd_postfix": "",
     "delete_cmd_prefix": "del ",
     "library": "var_list.py",
     "varRefreshCmd": "print(var_dic_list())"
    },
    "r": {
     "delete_cmd_postfix": ") ",
     "delete_cmd_prefix": "rm(",
     "library": "var_list.r",
     "varRefreshCmd": "cat(var_dic_list()) "
    }
   },
   "types_to_exclude": [
    "module",
    "function",
    "builtin_function_or_method",
    "instance",
    "_Feature"
   ],
   "window_display": false
  }
 },
 "nbformat": 4,
 "nbformat_minor": 4
}
